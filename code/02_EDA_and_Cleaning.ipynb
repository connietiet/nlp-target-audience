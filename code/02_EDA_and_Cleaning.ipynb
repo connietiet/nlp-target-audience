{
 "cells": [
  {
   "cell_type": "markdown",
   "metadata": {},
   "source": [
    "# EDA and Cleaning"
   ]
  },
  {
   "cell_type": "markdown",
   "metadata": {},
   "source": [
    "## Contents\n",
    "-  [Digital Nomad Data Import and Cleaning](#Digital-Nomad-Data-Import-and-Cleaning)\n",
    "-  [Solo Travel Data Import and Cleaning](#Solo-Travel-Data-Import-and-Cleaning)\n",
    "-  [Combine Digital Nomad and Solo Travel](#Combine-Digital-Nomad-and-Solo-Travel)\n",
    "-  [Clean Combined Text](#Clean-Combined-Text)\n",
    "-  [Data Visualization](#Data-Visualization)\n",
    "    -  [Word and Character Count](#Word-and-Character-Count)\n",
    "    -  [Most Common Words](#Most-Common-Words)\n",
    "-  [Save as CSV](#Save-as-CSV)"
   ]
  },
  {
   "cell_type": "code",
   "execution_count": 1,
   "metadata": {},
   "outputs": [],
   "source": [
    "import pandas as pd\n",
    "import numpy as np\n",
    "import json\n",
    "import re\n",
    "from sklearn.feature_extraction.text import CountVectorizer\n",
    "import matplotlib.pyplot as plt\n",
    "import seaborn as sns\n",
    "from nltk.tokenize import RegexpTokenizer\n",
    "from nltk.stem import WordNetLemmatizer\n",
    "from sklearn.feature_extraction import stop_words\n",
    "\n",
    "sns.set_style('darkgrid')\n",
    "sns.set_palette(palette='colorblind')\n",
    "np.random.seed(44)\n",
    "%matplotlib inline"
   ]
  },
  {
   "cell_type": "markdown",
   "metadata": {},
   "source": [
    "## Digital Nomad Data Import and Cleaning"
   ]
  },
  {
   "cell_type": "markdown",
   "metadata": {},
   "source": [
    "### Import Data"
   ]
  },
  {
   "cell_type": "markdown",
   "metadata": {},
   "source": [
    "The data collected from r/digitalnomad is read in and assigned to an appropriately named panda dataframe, `dn_posts`."
   ]
  },
  {
   "cell_type": "code",
   "execution_count": 2,
   "metadata": {},
   "outputs": [],
   "source": [
    "with open('../data/dn_posts_1545275192.json', 'r') as f:\n",
    "    dn_posts = json.load(f)"
   ]
  },
  {
   "cell_type": "markdown",
   "metadata": {},
   "source": [
    "### Create DataFrame"
   ]
  },
  {
   "cell_type": "markdown",
   "metadata": {},
   "source": [
    "`dn_posts` is a list of lists. Each list contains a dictionary with information we want to look at:\n",
    "-  `created_utc`: epoch time of post as an integer\n",
    "-  `selftext`: body of post\n",
    "-  `title`: title of post\n",
    "-  `url`: location/direct link to post\n",
    "-  `created`: epoch time of post as a float"
   ]
  },
  {
   "cell_type": "code",
   "execution_count": 3,
   "metadata": {},
   "outputs": [
    {
     "data": {
      "text/plain": [
       "dict_keys(['created_utc', 'selftext', 'title', 'url', 'created'])"
      ]
     },
     "execution_count": 3,
     "metadata": {},
     "output_type": "execute_result"
    }
   ],
   "source": [
    "dn_posts[0][5].keys()"
   ]
  },
  {
   "cell_type": "markdown",
   "metadata": {},
   "source": [
    "Lists that don't contain `selftext` will have a length less than 6. We will remove these posts entirely in order to key into each dictionary and put the remaining data in a dataframe."
   ]
  },
  {
   "cell_type": "code",
   "execution_count": 4,
   "metadata": {},
   "outputs": [],
   "source": [
    "def no_selftext(posts):\n",
    "    for i in range(len(posts)):\n",
    "        try:\n",
    "            if len(posts[i]) != 6:\n",
    "                del posts[i]\n",
    "        except:\n",
    "            pass\n",
    "    return posts"
   ]
  },
  {
   "cell_type": "code",
   "execution_count": 5,
   "metadata": {},
   "outputs": [],
   "source": [
    "dn_posts = no_selftext(dn_posts)"
   ]
  },
  {
   "cell_type": "code",
   "execution_count": 6,
   "metadata": {},
   "outputs": [
    {
     "data": {
      "text/plain": [
       "5694"
      ]
     },
     "execution_count": 6,
     "metadata": {},
     "output_type": "execute_result"
    }
   ],
   "source": [
    "len(dn_posts)"
   ]
  },
  {
   "cell_type": "markdown",
   "metadata": {},
   "source": [
    "After removing the 11 posts with no `selftext`, we have 5,694 posts. "
   ]
  },
  {
   "cell_type": "markdown",
   "metadata": {},
   "source": [
    "We create a `dn_df` dataframe with `title` and `selftext`. We do not need `created_utc`, `url` and `created` to build our model so they are excluded from the dataframe."
   ]
  },
  {
   "cell_type": "code",
   "execution_count": 7,
   "metadata": {},
   "outputs": [],
   "source": [
    "dn_df = pd.DataFrame(data=[i[5] for i in dn_posts], columns=['title', 'selftext'])"
   ]
  },
  {
   "cell_type": "code",
   "execution_count": 8,
   "metadata": {},
   "outputs": [
    {
     "data": {
      "text/html": [
       "<div>\n",
       "<style scoped>\n",
       "    .dataframe tbody tr th:only-of-type {\n",
       "        vertical-align: middle;\n",
       "    }\n",
       "\n",
       "    .dataframe tbody tr th {\n",
       "        vertical-align: top;\n",
       "    }\n",
       "\n",
       "    .dataframe thead th {\n",
       "        text-align: right;\n",
       "    }\n",
       "</style>\n",
       "<table border=\"1\" class=\"dataframe\">\n",
       "  <thead>\n",
       "    <tr style=\"text-align: right;\">\n",
       "      <th></th>\n",
       "      <th>title</th>\n",
       "      <th>selftext</th>\n",
       "    </tr>\n",
       "  </thead>\n",
       "  <tbody>\n",
       "    <tr>\n",
       "      <th>0</th>\n",
       "      <td>Where to spend the next month in the USA -</td>\n",
       "      <td>I need to burn a month until mid-January. I ca...</td>\n",
       "    </tr>\n",
       "    <tr>\n",
       "      <th>1</th>\n",
       "      <td>Apologies if this is old news</td>\n",
       "      <td>https://tulsaremote.com/</td>\n",
       "    </tr>\n",
       "    <tr>\n",
       "      <th>2</th>\n",
       "      <td>Where to look for cheap flights around Europe?</td>\n",
       "      <td>I've always heard of people getting £10 flight...</td>\n",
       "    </tr>\n",
       "    <tr>\n",
       "      <th>3</th>\n",
       "      <td>Social media training</td>\n",
       "      <td>Hi all! I am a digital marketing professional ...</td>\n",
       "    </tr>\n",
       "    <tr>\n",
       "      <th>4</th>\n",
       "      <td>Suggestions for place to live in US? (Preferab...</td>\n",
       "      <td>I'm starting my first remote job in January an...</td>\n",
       "    </tr>\n",
       "  </tbody>\n",
       "</table>\n",
       "</div>"
      ],
      "text/plain": [
       "                                               title  \\\n",
       "0         Where to spend the next month in the USA -   \n",
       "1                      Apologies if this is old news   \n",
       "2     Where to look for cheap flights around Europe?   \n",
       "3                              Social media training   \n",
       "4  Suggestions for place to live in US? (Preferab...   \n",
       "\n",
       "                                            selftext  \n",
       "0  I need to burn a month until mid-January. I ca...  \n",
       "1                           https://tulsaremote.com/  \n",
       "2  I've always heard of people getting £10 flight...  \n",
       "3  Hi all! I am a digital marketing professional ...  \n",
       "4  I'm starting my first remote job in January an...  "
      ]
     },
     "execution_count": 8,
     "metadata": {},
     "output_type": "execute_result"
    }
   ],
   "source": [
    "dn_df.head()"
   ]
  },
  {
   "cell_type": "markdown",
   "metadata": {},
   "source": [
    "### Remove Duplicates"
   ]
  },
  {
   "cell_type": "markdown",
   "metadata": {},
   "source": [
    "We want to remove any duplicates that may have been collected before modeling."
   ]
  },
  {
   "cell_type": "code",
   "execution_count": 9,
   "metadata": {},
   "outputs": [],
   "source": [
    "dn_df.drop_duplicates(inplace=True)"
   ]
  },
  {
   "cell_type": "code",
   "execution_count": 10,
   "metadata": {},
   "outputs": [
    {
     "data": {
      "text/plain": [
       "5647"
      ]
     },
     "execution_count": 10,
     "metadata": {},
     "output_type": "execute_result"
    }
   ],
   "source": [
    "len(dn_df)"
   ]
  },
  {
   "cell_type": "markdown",
   "metadata": {},
   "source": [
    "After dropping duplicates, there's a total of 5,647 posts (47 less)."
   ]
  },
  {
   "cell_type": "markdown",
   "metadata": {},
   "source": [
    "### Missing Values"
   ]
  },
  {
   "cell_type": "code",
   "execution_count": 11,
   "metadata": {},
   "outputs": [
    {
     "data": {
      "text/plain": [
       "title       0\n",
       "selftext    0\n",
       "dtype: int64"
      ]
     },
     "execution_count": 11,
     "metadata": {},
     "output_type": "execute_result"
    }
   ],
   "source": [
    "dn_df.isna().sum()"
   ]
  },
  {
   "cell_type": "markdown",
   "metadata": {},
   "source": [
    "There are no missing values in either `title` or `selftext`."
   ]
  },
  {
   "cell_type": "markdown",
   "metadata": {},
   "source": [
    "Some posts will indicate \n",
    "-  `[removed]`: the subreddit's moderator found the post to be either irrelevant to the community or a violation of its rules.\n",
    "-  `[deleted]`: the user removed his/her own post.\n",
    "\n",
    "We do not want to include these posts because the content will not contribute to our model if they don't align with the characteristics normally found in this community."
   ]
  },
  {
   "cell_type": "code",
   "execution_count": 12,
   "metadata": {},
   "outputs": [],
   "source": [
    "dn_df = dn_df[(dn_df['selftext'] != '[removed]') & \n",
    "              (dn_df['title'] != '[removed]') &\n",
    "              (dn_df['selftext'] != '[deleted]')]"
   ]
  },
  {
   "cell_type": "code",
   "execution_count": 13,
   "metadata": {},
   "outputs": [
    {
     "data": {
      "text/plain": [
       "5122"
      ]
     },
     "execution_count": 13,
     "metadata": {},
     "output_type": "execute_result"
    }
   ],
   "source": [
    "len(dn_df)"
   ]
  },
  {
   "cell_type": "markdown",
   "metadata": {},
   "source": [
    "After removing texts with `[removed]` and `[deleted]`, we're left with 5,122 posts."
   ]
  },
  {
   "cell_type": "markdown",
   "metadata": {},
   "source": [
    "### Combine `title` and `selftext`"
   ]
  },
  {
   "cell_type": "markdown",
   "metadata": {},
   "source": [
    "Since `title` and `selftext` is one post, we want to create a new column, `text`, that's a combination of the two. We will use this column when preprocessing and modeling moving forward. We also create a `digital_nomad` column and input `1` to indicate the data falls in our positive class (category that we're interested in)."
   ]
  },
  {
   "cell_type": "code",
   "execution_count": 14,
   "metadata": {},
   "outputs": [],
   "source": [
    "dn_df['text'] = dn_df['title'] + ' ' + dn_df['selftext']"
   ]
  },
  {
   "cell_type": "code",
   "execution_count": 15,
   "metadata": {},
   "outputs": [],
   "source": [
    "dn_df['digital_nomad'] = 1"
   ]
  },
  {
   "cell_type": "code",
   "execution_count": 16,
   "metadata": {},
   "outputs": [],
   "source": [
    "dn_df.reset_index(drop=True, inplace=True)"
   ]
  },
  {
   "cell_type": "code",
   "execution_count": 17,
   "metadata": {},
   "outputs": [
    {
     "data": {
      "text/html": [
       "<div>\n",
       "<style scoped>\n",
       "    .dataframe tbody tr th:only-of-type {\n",
       "        vertical-align: middle;\n",
       "    }\n",
       "\n",
       "    .dataframe tbody tr th {\n",
       "        vertical-align: top;\n",
       "    }\n",
       "\n",
       "    .dataframe thead th {\n",
       "        text-align: right;\n",
       "    }\n",
       "</style>\n",
       "<table border=\"1\" class=\"dataframe\">\n",
       "  <thead>\n",
       "    <tr style=\"text-align: right;\">\n",
       "      <th></th>\n",
       "      <th>title</th>\n",
       "      <th>selftext</th>\n",
       "      <th>text</th>\n",
       "      <th>digital_nomad</th>\n",
       "    </tr>\n",
       "  </thead>\n",
       "  <tbody>\n",
       "    <tr>\n",
       "      <th>0</th>\n",
       "      <td>Where to spend the next month in the USA -</td>\n",
       "      <td>I need to burn a month until mid-January. I ca...</td>\n",
       "      <td>Where to spend the next month in the USA - I n...</td>\n",
       "      <td>1</td>\n",
       "    </tr>\n",
       "    <tr>\n",
       "      <th>1</th>\n",
       "      <td>Apologies if this is old news</td>\n",
       "      <td>https://tulsaremote.com/</td>\n",
       "      <td>Apologies if this is old news https://tulsarem...</td>\n",
       "      <td>1</td>\n",
       "    </tr>\n",
       "    <tr>\n",
       "      <th>2</th>\n",
       "      <td>Where to look for cheap flights around Europe?</td>\n",
       "      <td>I've always heard of people getting £10 flight...</td>\n",
       "      <td>Where to look for cheap flights around Europe?...</td>\n",
       "      <td>1</td>\n",
       "    </tr>\n",
       "    <tr>\n",
       "      <th>3</th>\n",
       "      <td>Social media training</td>\n",
       "      <td>Hi all! I am a digital marketing professional ...</td>\n",
       "      <td>Social media training Hi all! I am a digital m...</td>\n",
       "      <td>1</td>\n",
       "    </tr>\n",
       "    <tr>\n",
       "      <th>4</th>\n",
       "      <td>Suggestions for place to live in US? (Preferab...</td>\n",
       "      <td>I'm starting my first remote job in January an...</td>\n",
       "      <td>Suggestions for place to live in US? (Preferab...</td>\n",
       "      <td>1</td>\n",
       "    </tr>\n",
       "  </tbody>\n",
       "</table>\n",
       "</div>"
      ],
      "text/plain": [
       "                                               title  \\\n",
       "0         Where to spend the next month in the USA -   \n",
       "1                      Apologies if this is old news   \n",
       "2     Where to look for cheap flights around Europe?   \n",
       "3                              Social media training   \n",
       "4  Suggestions for place to live in US? (Preferab...   \n",
       "\n",
       "                                            selftext  \\\n",
       "0  I need to burn a month until mid-January. I ca...   \n",
       "1                           https://tulsaremote.com/   \n",
       "2  I've always heard of people getting £10 flight...   \n",
       "3  Hi all! I am a digital marketing professional ...   \n",
       "4  I'm starting my first remote job in January an...   \n",
       "\n",
       "                                                text  digital_nomad  \n",
       "0  Where to spend the next month in the USA - I n...              1  \n",
       "1  Apologies if this is old news https://tulsarem...              1  \n",
       "2  Where to look for cheap flights around Europe?...              1  \n",
       "3  Social media training Hi all! I am a digital m...              1  \n",
       "4  Suggestions for place to live in US? (Preferab...              1  "
      ]
     },
     "execution_count": 17,
     "metadata": {},
     "output_type": "execute_result"
    }
   ],
   "source": [
    "dn_df.head()"
   ]
  },
  {
   "cell_type": "markdown",
   "metadata": {},
   "source": [
    "## Solo Travel Data Import and Cleaning"
   ]
  },
  {
   "cell_type": "markdown",
   "metadata": {},
   "source": [
    "We repeat the same process for the data collected from r/solotravel."
   ]
  },
  {
   "cell_type": "markdown",
   "metadata": {},
   "source": [
    "### Import Data"
   ]
  },
  {
   "cell_type": "markdown",
   "metadata": {},
   "source": [
    "The data collected from r/solotravel is read in and assigned to an appropriately named panda dataframe, `st_posts`."
   ]
  },
  {
   "cell_type": "code",
   "execution_count": 18,
   "metadata": {},
   "outputs": [],
   "source": [
    "with open('../data/st_posts_1545283175.json', 'r') as f:\n",
    "    st_posts = json.load(f)"
   ]
  },
  {
   "cell_type": "markdown",
   "metadata": {},
   "source": [
    "### Create DataFrame"
   ]
  },
  {
   "cell_type": "markdown",
   "metadata": {},
   "source": [
    "Posts that do not have `selftext` is removed."
   ]
  },
  {
   "cell_type": "code",
   "execution_count": 19,
   "metadata": {},
   "outputs": [],
   "source": [
    "st_posts = no_selftext(st_posts)"
   ]
  },
  {
   "cell_type": "code",
   "execution_count": 20,
   "metadata": {},
   "outputs": [
    {
     "data": {
      "text/plain": [
       "6000"
      ]
     },
     "execution_count": 20,
     "metadata": {},
     "output_type": "execute_result"
    }
   ],
   "source": [
    "len(st_posts)"
   ]
  },
  {
   "cell_type": "markdown",
   "metadata": {},
   "source": [
    "Given that we have the same number of posts, all posts contain `selftext`."
   ]
  },
  {
   "cell_type": "markdown",
   "metadata": {},
   "source": [
    "We create a `st_df` dataframe with `title` and `selftext`."
   ]
  },
  {
   "cell_type": "code",
   "execution_count": 21,
   "metadata": {},
   "outputs": [],
   "source": [
    "st_df = pd.DataFrame(data=[i[5] for i in st_posts], columns=['title', 'selftext'])"
   ]
  },
  {
   "cell_type": "code",
   "execution_count": 22,
   "metadata": {},
   "outputs": [
    {
     "data": {
      "text/html": [
       "<div>\n",
       "<style scoped>\n",
       "    .dataframe tbody tr th:only-of-type {\n",
       "        vertical-align: middle;\n",
       "    }\n",
       "\n",
       "    .dataframe tbody tr th {\n",
       "        vertical-align: top;\n",
       "    }\n",
       "\n",
       "    .dataframe thead th {\n",
       "        text-align: right;\n",
       "    }\n",
       "</style>\n",
       "<table border=\"1\" class=\"dataframe\">\n",
       "  <thead>\n",
       "    <tr style=\"text-align: right;\">\n",
       "      <th></th>\n",
       "      <th>title</th>\n",
       "      <th>selftext</th>\n",
       "    </tr>\n",
       "  </thead>\n",
       "  <tbody>\n",
       "    <tr>\n",
       "      <th>0</th>\n",
       "      <td>Has anyone booked at Carpe Noctem Original in ...</td>\n",
       "      <td>I just booked on their site and was never prom...</td>\n",
       "    </tr>\n",
       "    <tr>\n",
       "      <th>1</th>\n",
       "      <td>What are your best solotravel stories from Nor...</td>\n",
       "      <td>Title says it all. I've been wanting to travel...</td>\n",
       "    </tr>\n",
       "    <tr>\n",
       "      <th>2</th>\n",
       "      <td>Vietnam E-Visa question</td>\n",
       "      <td>Hey guys! So I've book my first trip in Januar...</td>\n",
       "    </tr>\n",
       "    <tr>\n",
       "      <th>3</th>\n",
       "      <td>Isn't it amazing to do whatever you want whene...</td>\n",
       "      <td>I have travelled on my own twice and Im amazed...</td>\n",
       "    </tr>\n",
       "    <tr>\n",
       "      <th>4</th>\n",
       "      <td>Angkor [Download] is 30% OFF</td>\n",
       "      <td></td>\n",
       "    </tr>\n",
       "  </tbody>\n",
       "</table>\n",
       "</div>"
      ],
      "text/plain": [
       "                                               title  \\\n",
       "0  Has anyone booked at Carpe Noctem Original in ...   \n",
       "1  What are your best solotravel stories from Nor...   \n",
       "2                            Vietnam E-Visa question   \n",
       "3  Isn't it amazing to do whatever you want whene...   \n",
       "4                       Angkor [Download] is 30% OFF   \n",
       "\n",
       "                                            selftext  \n",
       "0  I just booked on their site and was never prom...  \n",
       "1  Title says it all. I've been wanting to travel...  \n",
       "2  Hey guys! So I've book my first trip in Januar...  \n",
       "3  I have travelled on my own twice and Im amazed...  \n",
       "4                                                     "
      ]
     },
     "execution_count": 22,
     "metadata": {},
     "output_type": "execute_result"
    }
   ],
   "source": [
    "st_df.head()"
   ]
  },
  {
   "cell_type": "markdown",
   "metadata": {},
   "source": [
    "### Remove Duplicates"
   ]
  },
  {
   "cell_type": "code",
   "execution_count": 23,
   "metadata": {},
   "outputs": [],
   "source": [
    "st_df.drop_duplicates(inplace=True)"
   ]
  },
  {
   "cell_type": "code",
   "execution_count": 24,
   "metadata": {},
   "outputs": [
    {
     "data": {
      "text/plain": [
       "5986"
      ]
     },
     "execution_count": 24,
     "metadata": {},
     "output_type": "execute_result"
    }
   ],
   "source": [
    "len(st_df)"
   ]
  },
  {
   "cell_type": "markdown",
   "metadata": {},
   "source": [
    "After dropping duplicates, there's a total of 5,986 posts (14 less)."
   ]
  },
  {
   "cell_type": "markdown",
   "metadata": {},
   "source": [
    "### Missing Values"
   ]
  },
  {
   "cell_type": "code",
   "execution_count": 25,
   "metadata": {},
   "outputs": [
    {
     "data": {
      "text/plain": [
       "title       0\n",
       "selftext    0\n",
       "dtype: int64"
      ]
     },
     "execution_count": 25,
     "metadata": {},
     "output_type": "execute_result"
    }
   ],
   "source": [
    "st_df.isna().sum()"
   ]
  },
  {
   "cell_type": "markdown",
   "metadata": {},
   "source": [
    "There are no missing values in either `title` or `selftext`."
   ]
  },
  {
   "cell_type": "code",
   "execution_count": 26,
   "metadata": {},
   "outputs": [],
   "source": [
    "st_df = st_df[(st_df['selftext'] != '[removed]') & \n",
    "              (st_df['title'] != '[removed]') &\n",
    "              (st_df['selftext'] != '[deleted]')]"
   ]
  },
  {
   "cell_type": "code",
   "execution_count": 27,
   "metadata": {},
   "outputs": [
    {
     "data": {
      "text/plain": [
       "5645"
      ]
     },
     "execution_count": 27,
     "metadata": {},
     "output_type": "execute_result"
    }
   ],
   "source": [
    "len(st_df)"
   ]
  },
  {
   "cell_type": "markdown",
   "metadata": {},
   "source": [
    "After removing texts with `[removed]` and `[deleted]`, we're left with 5,645 posts."
   ]
  },
  {
   "cell_type": "markdown",
   "metadata": {},
   "source": [
    "### Combine `title` and `selftext`"
   ]
  },
  {
   "cell_type": "markdown",
   "metadata": {},
   "source": [
    "Similar to what was done with r/digitalnomad, we create a `text` column that's a combination of `title` and `selftext`. We input `0` in the `digital_nomad` column to indicate our negative class (r/solotravel). "
   ]
  },
  {
   "cell_type": "code",
   "execution_count": 28,
   "metadata": {},
   "outputs": [],
   "source": [
    "st_df['text'] = st_df['title'] + ' ' + st_df['selftext']"
   ]
  },
  {
   "cell_type": "code",
   "execution_count": 29,
   "metadata": {},
   "outputs": [],
   "source": [
    "st_df['digital_nomad'] = 0"
   ]
  },
  {
   "cell_type": "code",
   "execution_count": 30,
   "metadata": {},
   "outputs": [],
   "source": [
    "st_df.reset_index(drop=True, inplace=True)"
   ]
  },
  {
   "cell_type": "code",
   "execution_count": 31,
   "metadata": {},
   "outputs": [
    {
     "data": {
      "text/html": [
       "<div>\n",
       "<style scoped>\n",
       "    .dataframe tbody tr th:only-of-type {\n",
       "        vertical-align: middle;\n",
       "    }\n",
       "\n",
       "    .dataframe tbody tr th {\n",
       "        vertical-align: top;\n",
       "    }\n",
       "\n",
       "    .dataframe thead th {\n",
       "        text-align: right;\n",
       "    }\n",
       "</style>\n",
       "<table border=\"1\" class=\"dataframe\">\n",
       "  <thead>\n",
       "    <tr style=\"text-align: right;\">\n",
       "      <th></th>\n",
       "      <th>title</th>\n",
       "      <th>selftext</th>\n",
       "      <th>text</th>\n",
       "      <th>digital_nomad</th>\n",
       "    </tr>\n",
       "  </thead>\n",
       "  <tbody>\n",
       "    <tr>\n",
       "      <th>0</th>\n",
       "      <td>Has anyone booked at Carpe Noctem Original in ...</td>\n",
       "      <td>I just booked on their site and was never prom...</td>\n",
       "      <td>Has anyone booked at Carpe Noctem Original in ...</td>\n",
       "      <td>0</td>\n",
       "    </tr>\n",
       "    <tr>\n",
       "      <th>1</th>\n",
       "      <td>What are your best solotravel stories from Nor...</td>\n",
       "      <td>Title says it all. I've been wanting to travel...</td>\n",
       "      <td>What are your best solotravel stories from Nor...</td>\n",
       "      <td>0</td>\n",
       "    </tr>\n",
       "    <tr>\n",
       "      <th>2</th>\n",
       "      <td>Vietnam E-Visa question</td>\n",
       "      <td>Hey guys! So I've book my first trip in Januar...</td>\n",
       "      <td>Vietnam E-Visa question Hey guys! So I've book...</td>\n",
       "      <td>0</td>\n",
       "    </tr>\n",
       "    <tr>\n",
       "      <th>3</th>\n",
       "      <td>Isn't it amazing to do whatever you want whene...</td>\n",
       "      <td>I have travelled on my own twice and Im amazed...</td>\n",
       "      <td>Isn't it amazing to do whatever you want whene...</td>\n",
       "      <td>0</td>\n",
       "    </tr>\n",
       "    <tr>\n",
       "      <th>4</th>\n",
       "      <td>Angkor [Download] is 30% OFF</td>\n",
       "      <td></td>\n",
       "      <td>Angkor [Download] is 30% OFF</td>\n",
       "      <td>0</td>\n",
       "    </tr>\n",
       "  </tbody>\n",
       "</table>\n",
       "</div>"
      ],
      "text/plain": [
       "                                               title  \\\n",
       "0  Has anyone booked at Carpe Noctem Original in ...   \n",
       "1  What are your best solotravel stories from Nor...   \n",
       "2                            Vietnam E-Visa question   \n",
       "3  Isn't it amazing to do whatever you want whene...   \n",
       "4                       Angkor [Download] is 30% OFF   \n",
       "\n",
       "                                            selftext  \\\n",
       "0  I just booked on their site and was never prom...   \n",
       "1  Title says it all. I've been wanting to travel...   \n",
       "2  Hey guys! So I've book my first trip in Januar...   \n",
       "3  I have travelled on my own twice and Im amazed...   \n",
       "4                                                      \n",
       "\n",
       "                                                text  digital_nomad  \n",
       "0  Has anyone booked at Carpe Noctem Original in ...              0  \n",
       "1  What are your best solotravel stories from Nor...              0  \n",
       "2  Vietnam E-Visa question Hey guys! So I've book...              0  \n",
       "3  Isn't it amazing to do whatever you want whene...              0  \n",
       "4                      Angkor [Download] is 30% OFF               0  "
      ]
     },
     "execution_count": 31,
     "metadata": {},
     "output_type": "execute_result"
    }
   ],
   "source": [
    "st_df.head()"
   ]
  },
  {
   "cell_type": "markdown",
   "metadata": {},
   "source": [
    "## Combine Digital Nomad and Solo Travel"
   ]
  },
  {
   "cell_type": "markdown",
   "metadata": {},
   "source": [
    "We combine our two dataframes, `dn_df` and `st_df`."
   ]
  },
  {
   "cell_type": "code",
   "execution_count": 32,
   "metadata": {},
   "outputs": [],
   "source": [
    "combined_df = pd.concat(objs=[dn_df, st_df], ignore_index=True)"
   ]
  },
  {
   "cell_type": "code",
   "execution_count": 33,
   "metadata": {},
   "outputs": [
    {
     "data": {
      "text/html": [
       "<div>\n",
       "<style scoped>\n",
       "    .dataframe tbody tr th:only-of-type {\n",
       "        vertical-align: middle;\n",
       "    }\n",
       "\n",
       "    .dataframe tbody tr th {\n",
       "        vertical-align: top;\n",
       "    }\n",
       "\n",
       "    .dataframe thead th {\n",
       "        text-align: right;\n",
       "    }\n",
       "</style>\n",
       "<table border=\"1\" class=\"dataframe\">\n",
       "  <thead>\n",
       "    <tr style=\"text-align: right;\">\n",
       "      <th></th>\n",
       "      <th>title</th>\n",
       "      <th>selftext</th>\n",
       "      <th>text</th>\n",
       "      <th>digital_nomad</th>\n",
       "    </tr>\n",
       "  </thead>\n",
       "  <tbody>\n",
       "    <tr>\n",
       "      <th>0</th>\n",
       "      <td>Where to spend the next month in the USA -</td>\n",
       "      <td>I need to burn a month until mid-January. I ca...</td>\n",
       "      <td>Where to spend the next month in the USA - I n...</td>\n",
       "      <td>1</td>\n",
       "    </tr>\n",
       "    <tr>\n",
       "      <th>1</th>\n",
       "      <td>Apologies if this is old news</td>\n",
       "      <td>https://tulsaremote.com/</td>\n",
       "      <td>Apologies if this is old news https://tulsarem...</td>\n",
       "      <td>1</td>\n",
       "    </tr>\n",
       "    <tr>\n",
       "      <th>2</th>\n",
       "      <td>Where to look for cheap flights around Europe?</td>\n",
       "      <td>I've always heard of people getting £10 flight...</td>\n",
       "      <td>Where to look for cheap flights around Europe?...</td>\n",
       "      <td>1</td>\n",
       "    </tr>\n",
       "    <tr>\n",
       "      <th>3</th>\n",
       "      <td>Social media training</td>\n",
       "      <td>Hi all! I am a digital marketing professional ...</td>\n",
       "      <td>Social media training Hi all! I am a digital m...</td>\n",
       "      <td>1</td>\n",
       "    </tr>\n",
       "    <tr>\n",
       "      <th>4</th>\n",
       "      <td>Suggestions for place to live in US? (Preferab...</td>\n",
       "      <td>I'm starting my first remote job in January an...</td>\n",
       "      <td>Suggestions for place to live in US? (Preferab...</td>\n",
       "      <td>1</td>\n",
       "    </tr>\n",
       "  </tbody>\n",
       "</table>\n",
       "</div>"
      ],
      "text/plain": [
       "                                               title  \\\n",
       "0         Where to spend the next month in the USA -   \n",
       "1                      Apologies if this is old news   \n",
       "2     Where to look for cheap flights around Europe?   \n",
       "3                              Social media training   \n",
       "4  Suggestions for place to live in US? (Preferab...   \n",
       "\n",
       "                                            selftext  \\\n",
       "0  I need to burn a month until mid-January. I ca...   \n",
       "1                           https://tulsaremote.com/   \n",
       "2  I've always heard of people getting £10 flight...   \n",
       "3  Hi all! I am a digital marketing professional ...   \n",
       "4  I'm starting my first remote job in January an...   \n",
       "\n",
       "                                                text  digital_nomad  \n",
       "0  Where to spend the next month in the USA - I n...              1  \n",
       "1  Apologies if this is old news https://tulsarem...              1  \n",
       "2  Where to look for cheap flights around Europe?...              1  \n",
       "3  Social media training Hi all! I am a digital m...              1  \n",
       "4  Suggestions for place to live in US? (Preferab...              1  "
      ]
     },
     "execution_count": 33,
     "metadata": {},
     "output_type": "execute_result"
    }
   ],
   "source": [
    "combined_df.head()"
   ]
  },
  {
   "cell_type": "code",
   "execution_count": 34,
   "metadata": {},
   "outputs": [
    {
     "data": {
      "text/plain": [
       "10767"
      ]
     },
     "execution_count": 34,
     "metadata": {},
     "output_type": "execute_result"
    }
   ],
   "source": [
    "combined_df.shape[0]"
   ]
  },
  {
   "cell_type": "markdown",
   "metadata": {},
   "source": [
    "There are a total of 10,746 documents in our corpus."
   ]
  },
  {
   "cell_type": "code",
   "execution_count": 35,
   "metadata": {},
   "outputs": [
    {
     "data": {
      "text/plain": [
       "0    0.524287\n",
       "1    0.475713\n",
       "Name: digital_nomad, dtype: float64"
      ]
     },
     "execution_count": 35,
     "metadata": {},
     "output_type": "execute_result"
    }
   ],
   "source": [
    "combined_df['digital_nomad'].value_counts(normalize=True)"
   ]
  },
  {
   "cell_type": "markdown",
   "metadata": {},
   "source": [
    "r/solotravel is our majority class, with 52% of posts coming from this subreddit. Despite the imbalance, it's not significant enough to bias our model."
   ]
  },
  {
   "cell_type": "markdown",
   "metadata": {},
   "source": [
    "## Clean Combined Text"
   ]
  },
  {
   "cell_type": "markdown",
   "metadata": {},
   "source": [
    "In order to remove any words that will only contribute noise to our model, we will use regular expressions to replace certain patterns with a space."
   ]
  },
  {
   "cell_type": "markdown",
   "metadata": {},
   "source": [
    "**1\\.  Remove links:** Any links included in posts are likely to be unique to that specific post and won't provide any information in regards to the content."
   ]
  },
  {
   "cell_type": "code",
   "execution_count": 36,
   "metadata": {},
   "outputs": [],
   "source": [
    "combined_df['text'] = combined_df['text'].map(lambda x: re.sub('http[s]?:\\/\\/[^\\s]*', ' ', x))"
   ]
  },
  {
   "cell_type": "markdown",
   "metadata": {},
   "source": [
    "**2\\.  Remove subreddit:** Mention of a subreddit's name will automatically classify a post. We want to remove any mention of a subreddit to see how other, more ambiguous words contribute to our model."
   ]
  },
  {
   "cell_type": "code",
   "execution_count": 37,
   "metadata": {},
   "outputs": [],
   "source": [
    "combined_df['text'] = combined_df['text'].map(lambda x: re.sub('\\s[\\/]?r\\/[^\\s+]+', ' ', x))"
   ]
  },
  {
   "cell_type": "markdown",
   "metadata": {},
   "source": [
    "**3\\.  Remove distinct words:** Words like `digital nomad`, `solo travel` and any variation of the word `travel` clearly indicate which subreddit a given post belongs in. It would be ineffective to include these, since they'll surely appear as keywords that should be used when building our campaign."
   ]
  },
  {
   "cell_type": "code",
   "execution_count": 38,
   "metadata": {},
   "outputs": [],
   "source": [
    "combined_df['text'] = combined_df['text'].map(lambda x: re.sub('(digital|nomad[s]?|solo|travel[s]?[er]*[s]?l?[ing]*)', ' ', x, flags=re.I))"
   ]
  },
  {
   "cell_type": "markdown",
   "metadata": {},
   "source": [
    "**4\\. Remove HTML Code Artifacts:** `&amp;` and `#x200B` are HTML code artifacts prevalent in the text. We will remove these so that they don't contribute noise to our model."
   ]
  },
  {
   "cell_type": "code",
   "execution_count": 39,
   "metadata": {},
   "outputs": [],
   "source": [
    "combined_df['text'] = combined_df['text'].map(lambda x: re.sub('&*amp;*', ' ', x))"
   ]
  },
  {
   "cell_type": "code",
   "execution_count": 40,
   "metadata": {},
   "outputs": [],
   "source": [
    "combined_df['text'] = combined_df['text'].map(lambda x: re.sub('#x200B;', ' ', x))"
   ]
  },
  {
   "cell_type": "markdown",
   "metadata": {},
   "source": [
    "**5\\. Remove digits:** When using Google Display Network, keywords are *words*. Frequently occuring digits will not help us when building our campaign."
   ]
  },
  {
   "cell_type": "code",
   "execution_count": 41,
   "metadata": {},
   "outputs": [],
   "source": [
    "combined_df['text'] = combined_df['text'].map(lambda x: re.sub('\\d', ' ', x))"
   ]
  },
  {
   "cell_type": "markdown",
   "metadata": {},
   "source": [
    "## Data Visualization"
   ]
  },
  {
   "cell_type": "markdown",
   "metadata": {},
   "source": [
    "### Word and Character Count"
   ]
  },
  {
   "cell_type": "markdown",
   "metadata": {},
   "source": [
    "We'll visualize the word and character count for each subreddit to see if either communities tend to have longer or shorter posts."
   ]
  },
  {
   "cell_type": "markdown",
   "metadata": {},
   "source": [
    "We create two columns:\n",
    "-  `word_count`: the word count in the respective `text` column\n",
    "-  `char_count`: the character count in the respective `text` column"
   ]
  },
  {
   "cell_type": "code",
   "execution_count": 42,
   "metadata": {},
   "outputs": [],
   "source": [
    "combined_df['word_count'] = combined_df.text.map(lambda x: len(x.split()))\n",
    "combined_df['char_count'] = combined_df.text.map(len)"
   ]
  },
  {
   "cell_type": "code",
   "execution_count": 43,
   "metadata": {},
   "outputs": [
    {
     "data": {
      "image/png": "[encoded data removed]",
      "text/plain": [
       "<Figure size 1440x720 with 1 Axes>"
      ]
     },
     "metadata": {},
     "output_type": "display_data"
    }
   ],
   "source": [
    "plt.figure(figsize=(20, 10))\n",
    "plt.hist([combined_df[combined_df['digital_nomad'] == 1]['char_count'],\n",
    "         combined_df[combined_df['digital_nomad'] == 0]['char_count']],\n",
    "         bins=20)\n",
    "plt.title('Character Count by Class', fontsize=30)\n",
    "plt.xlabel('Number of Characters (Per Post)', fontsize=20)\n",
    "plt.ylabel('Count', fontsize=20)\n",
    "plt.xticks(fontsize=15)\n",
    "plt.yticks(fontsize=15)\n",
    "plt.legend(['Digital Nomad', 'Solo Travel']);"
   ]
  },
  {
   "cell_type": "markdown",
   "metadata": {},
   "source": [
    "-  Most posts contain less than 5000 characters for both subreddits.\n",
    "-  r/solotravel has a greater count than r/digitalnomad, but there doesn't appear to be a significant difference to help us determine which subreddit a given post belongs in."
   ]
  },
  {
   "cell_type": "code",
   "execution_count": 44,
   "metadata": {},
   "outputs": [
    {
     "data": {
      "image/png": "[encoded data removed]",
      "text/plain": [
       "<Figure size 1440x720 with 1 Axes>"
      ]
     },
     "metadata": {},
     "output_type": "display_data"
    }
   ],
   "source": [
    "plt.figure(figsize=(20, 10))\n",
    "plt.hist([combined_df[combined_df['digital_nomad'] == 1]['word_count'],\n",
    "         combined_df[combined_df['digital_nomad'] == 0]['word_count']],\n",
    "         bins=20)\n",
    "plt.title('Word Count by Class', fontsize=30)\n",
    "plt.xlabel('Number of Words (Per Post)', fontsize=20)\n",
    "plt.ylabel('Count', fontsize=20)\n",
    "plt.xticks(fontsize=15)\n",
    "plt.yticks(fontsize=15)\n",
    "plt.legend(['Digital Nomad', 'Solo Travel']);"
   ]
  },
  {
   "cell_type": "markdown",
   "metadata": {},
   "source": [
    "-  Most posts have less than 1000 words for both subreddits.\n",
    "-  Again, r/solotravel has a greater count than r/digitalnomad, but there isn't a significant difference to provide any insight. "
   ]
  },
  {
   "cell_type": "markdown",
   "metadata": {},
   "source": [
    "From the bar chart, we can see that there's a word count of 1. Given that posts with only 1 word will typically not relay much information or mainly consists of pictures, we'll remove them. "
   ]
  },
  {
   "cell_type": "code",
   "execution_count": 45,
   "metadata": {},
   "outputs": [
    {
     "data": {
      "text/html": [
       "<div>\n",
       "<style scoped>\n",
       "    .dataframe tbody tr th:only-of-type {\n",
       "        vertical-align: middle;\n",
       "    }\n",
       "\n",
       "    .dataframe tbody tr th {\n",
       "        vertical-align: top;\n",
       "    }\n",
       "\n",
       "    .dataframe thead th {\n",
       "        text-align: right;\n",
       "    }\n",
       "</style>\n",
       "<table border=\"1\" class=\"dataframe\">\n",
       "  <thead>\n",
       "    <tr style=\"text-align: right;\">\n",
       "      <th></th>\n",
       "      <th>title</th>\n",
       "      <th>selftext</th>\n",
       "      <th>text</th>\n",
       "      <th>digital_nomad</th>\n",
       "      <th>word_count</th>\n",
       "      <th>char_count</th>\n",
       "    </tr>\n",
       "  </thead>\n",
       "  <tbody>\n",
       "    <tr>\n",
       "      <th>97</th>\n",
       "      <td>moana</td>\n",
       "      <td></td>\n",
       "      <td>moana</td>\n",
       "      <td>1</td>\n",
       "      <td>1</td>\n",
       "      <td>6</td>\n",
       "    </tr>\n",
       "    <tr>\n",
       "      <th>564</th>\n",
       "      <td>dig</td>\n",
       "      <td></td>\n",
       "      <td>dig</td>\n",
       "      <td>1</td>\n",
       "      <td>1</td>\n",
       "      <td>4</td>\n",
       "    </tr>\n",
       "    <tr>\n",
       "      <th>664</th>\n",
       "      <td>https://­get.cryptobrowser.sit­e/842991</td>\n",
       "      <td></td>\n",
       "      <td></td>\n",
       "      <td>1</td>\n",
       "      <td>0</td>\n",
       "      <td>2</td>\n",
       "    </tr>\n",
       "    <tr>\n",
       "      <th>735</th>\n",
       "      <td>SPANISH</td>\n",
       "      <td></td>\n",
       "      <td>SPANISH</td>\n",
       "      <td>1</td>\n",
       "      <td>1</td>\n",
       "      <td>8</td>\n",
       "    </tr>\n",
       "    <tr>\n",
       "      <th>1448</th>\n",
       "      <td>Santorini</td>\n",
       "      <td></td>\n",
       "      <td>Santorini</td>\n",
       "      <td>1</td>\n",
       "      <td>1</td>\n",
       "      <td>10</td>\n",
       "    </tr>\n",
       "  </tbody>\n",
       "</table>\n",
       "</div>"
      ],
      "text/plain": [
       "                                        title selftext        text  \\\n",
       "97                                      moana               moana    \n",
       "564                                       dig                 dig    \n",
       "664   https://­get.cryptobrowser.sit­e/842991                        \n",
       "735                                   SPANISH             SPANISH    \n",
       "1448                                Santorini           Santorini    \n",
       "\n",
       "      digital_nomad  word_count  char_count  \n",
       "97                1           1           6  \n",
       "564               1           1           4  \n",
       "664               1           0           2  \n",
       "735               1           1           8  \n",
       "1448              1           1          10  "
      ]
     },
     "execution_count": 45,
     "metadata": {},
     "output_type": "execute_result"
    }
   ],
   "source": [
    "combined_df[combined_df['word_count'] <= 1].head()"
   ]
  },
  {
   "cell_type": "code",
   "execution_count": 46,
   "metadata": {},
   "outputs": [],
   "source": [
    "combined_df.drop(labels=combined_df[combined_df['word_count'] <= 1].index, inplace=True)"
   ]
  },
  {
   "cell_type": "code",
   "execution_count": 47,
   "metadata": {},
   "outputs": [],
   "source": [
    "combined_df.reset_index(drop=True, inplace=True)"
   ]
  },
  {
   "cell_type": "markdown",
   "metadata": {},
   "source": [
    "### Most Common Words"
   ]
  },
  {
   "cell_type": "markdown",
   "metadata": {},
   "source": [
    "We want to use CountVectorizer() to visualize the most commonly used words and their frequency to see if there are any obvious differences we can identify immediately. Before doing so, we must tokenize, remove stop words and lemmatize our `text`. "
   ]
  },
  {
   "cell_type": "markdown",
   "metadata": {},
   "source": [
    "#### Tokenize"
   ]
  },
  {
   "cell_type": "markdown",
   "metadata": {},
   "source": [
    "We instantiate tokenizer and define the search pattern using `r'\\w+` as our regular expression. We only want to search through words and omit digits and symbols since they cannot serve as keywords in our digital network campaign."
   ]
  },
  {
   "cell_type": "code",
   "execution_count": 48,
   "metadata": {},
   "outputs": [],
   "source": [
    "tokenizer = RegexpTokenizer(r'\\w+')"
   ]
  },
  {
   "cell_type": "markdown",
   "metadata": {},
   "source": [
    "We tokenize the `text` column and create a new column (`text_tokenized`) for our results."
   ]
  },
  {
   "cell_type": "code",
   "execution_count": 49,
   "metadata": {},
   "outputs": [],
   "source": [
    "combined_df['text_tokenized'] = [tokenizer.tokenize(combined_df['text'][i]) for i in range(len(combined_df))]"
   ]
  },
  {
   "cell_type": "code",
   "execution_count": 50,
   "metadata": {},
   "outputs": [
    {
     "data": {
      "text/html": [
       "<div>\n",
       "<style scoped>\n",
       "    .dataframe tbody tr th:only-of-type {\n",
       "        vertical-align: middle;\n",
       "    }\n",
       "\n",
       "    .dataframe tbody tr th {\n",
       "        vertical-align: top;\n",
       "    }\n",
       "\n",
       "    .dataframe thead th {\n",
       "        text-align: right;\n",
       "    }\n",
       "</style>\n",
       "<table border=\"1\" class=\"dataframe\">\n",
       "  <thead>\n",
       "    <tr style=\"text-align: right;\">\n",
       "      <th></th>\n",
       "      <th>title</th>\n",
       "      <th>selftext</th>\n",
       "      <th>text</th>\n",
       "      <th>digital_nomad</th>\n",
       "      <th>word_count</th>\n",
       "      <th>char_count</th>\n",
       "      <th>text_tokenized</th>\n",
       "    </tr>\n",
       "  </thead>\n",
       "  <tbody>\n",
       "    <tr>\n",
       "      <th>0</th>\n",
       "      <td>Where to spend the next month in the USA -</td>\n",
       "      <td>I need to burn a month until mid-January. I ca...</td>\n",
       "      <td>Where to spend the next month in the USA - I n...</td>\n",
       "      <td>1</td>\n",
       "      <td>65</td>\n",
       "      <td>317</td>\n",
       "      <td>[Where, to, spend, the, next, month, in, the, ...</td>\n",
       "    </tr>\n",
       "    <tr>\n",
       "      <th>1</th>\n",
       "      <td>Apologies if this is old news</td>\n",
       "      <td>https://tulsaremote.com/</td>\n",
       "      <td>Apologies if this is old news</td>\n",
       "      <td>1</td>\n",
       "      <td>6</td>\n",
       "      <td>31</td>\n",
       "      <td>[Apologies, if, this, is, old, news]</td>\n",
       "    </tr>\n",
       "    <tr>\n",
       "      <th>2</th>\n",
       "      <td>Where to look for cheap flights around Europe?</td>\n",
       "      <td>I've always heard of people getting £10 flight...</td>\n",
       "      <td>Where to look for cheap flights around Europe?...</td>\n",
       "      <td>1</td>\n",
       "      <td>48</td>\n",
       "      <td>257</td>\n",
       "      <td>[Where, to, look, for, cheap, flights, around,...</td>\n",
       "    </tr>\n",
       "    <tr>\n",
       "      <th>3</th>\n",
       "      <td>Social media training</td>\n",
       "      <td>Hi all! I am a digital marketing professional ...</td>\n",
       "      <td>Social media training Hi all! I am a   marketi...</td>\n",
       "      <td>1</td>\n",
       "      <td>43</td>\n",
       "      <td>265</td>\n",
       "      <td>[Social, media, training, Hi, all, I, am, a, m...</td>\n",
       "    </tr>\n",
       "    <tr>\n",
       "      <th>4</th>\n",
       "      <td>Suggestions for place to live in US? (Preferab...</td>\n",
       "      <td>I'm starting my first remote job in January an...</td>\n",
       "      <td>Suggestions for place to live in US? (Preferab...</td>\n",
       "      <td>1</td>\n",
       "      <td>53</td>\n",
       "      <td>309</td>\n",
       "      <td>[Suggestions, for, place, to, live, in, US, Pr...</td>\n",
       "    </tr>\n",
       "  </tbody>\n",
       "</table>\n",
       "</div>"
      ],
      "text/plain": [
       "                                               title  \\\n",
       "0         Where to spend the next month in the USA -   \n",
       "1                      Apologies if this is old news   \n",
       "2     Where to look for cheap flights around Europe?   \n",
       "3                              Social media training   \n",
       "4  Suggestions for place to live in US? (Preferab...   \n",
       "\n",
       "                                            selftext  \\\n",
       "0  I need to burn a month until mid-January. I ca...   \n",
       "1                           https://tulsaremote.com/   \n",
       "2  I've always heard of people getting £10 flight...   \n",
       "3  Hi all! I am a digital marketing professional ...   \n",
       "4  I'm starting my first remote job in January an...   \n",
       "\n",
       "                                                text  digital_nomad  \\\n",
       "0  Where to spend the next month in the USA - I n...              1   \n",
       "1                    Apologies if this is old news                1   \n",
       "2  Where to look for cheap flights around Europe?...              1   \n",
       "3  Social media training Hi all! I am a   marketi...              1   \n",
       "4  Suggestions for place to live in US? (Preferab...              1   \n",
       "\n",
       "   word_count  char_count                                     text_tokenized  \n",
       "0          65         317  [Where, to, spend, the, next, month, in, the, ...  \n",
       "1           6          31               [Apologies, if, this, is, old, news]  \n",
       "2          48         257  [Where, to, look, for, cheap, flights, around,...  \n",
       "3          43         265  [Social, media, training, Hi, all, I, am, a, m...  \n",
       "4          53         309  [Suggestions, for, place, to, live, in, US, Pr...  "
      ]
     },
     "execution_count": 50,
     "metadata": {},
     "output_type": "execute_result"
    }
   ],
   "source": [
    "combined_df.head()"
   ]
  },
  {
   "cell_type": "markdown",
   "metadata": {},
   "source": [
    "#### Remove Stop Words"
   ]
  },
  {
   "cell_type": "markdown",
   "metadata": {},
   "source": [
    "We want to remove stop words because they are commonly used and will only contribute noise to our model. In addition to the default english stop words, we've added words that appear with high frequency but contains no legitimate information about the post."
   ]
  },
  {
   "cell_type": "code",
   "execution_count": 51,
   "metadata": {},
   "outputs": [],
   "source": [
    "def remove_stop_words(df, col):\n",
    "    no_stop_words = []\n",
    "    stops = set(stop_words.ENGLISH_STOP_WORDS)\n",
    "    more_stops = set(['just', 've', 'don', 'wa', 'ing', 'll', 'the'])\n",
    "    for i in range(len(df[col])):\n",
    "        no_stops = [word for word in df[col][i] if not word in stops]\n",
    "        meaningful_words = [word for word in no_stops if not word in more_stops]\n",
    "        no_stop_words.append(meaningful_words)\n",
    "    return no_stop_words"
   ]
  },
  {
   "cell_type": "markdown",
   "metadata": {},
   "source": [
    "The remaining words are saved in the `text_meaningful` column."
   ]
  },
  {
   "cell_type": "code",
   "execution_count": 52,
   "metadata": {},
   "outputs": [],
   "source": [
    "combined_df['text_meaningful'] = remove_stop_words(combined_df, 'text_tokenized')"
   ]
  },
  {
   "cell_type": "markdown",
   "metadata": {},
   "source": [
    "#### Lemmatize"
   ]
  },
  {
   "cell_type": "markdown",
   "metadata": {},
   "source": [
    "Before CountVectorizer(), we want to combine similar forms of the same word. We will lemmatize our data in an attempt to return the base form of each word."
   ]
  },
  {
   "cell_type": "markdown",
   "metadata": {},
   "source": [
    "Instantiate lemmatizer"
   ]
  },
  {
   "cell_type": "code",
   "execution_count": 53,
   "metadata": {},
   "outputs": [],
   "source": [
    "lemmatizer = WordNetLemmatizer()"
   ]
  },
  {
   "cell_type": "markdown",
   "metadata": {},
   "source": [
    "We lemmatize the tokenized, meaningful words in `text_meaningful` and join them to represent one string again. This is shown in the `text_lemmatized` column."
   ]
  },
  {
   "cell_type": "code",
   "execution_count": 54,
   "metadata": {},
   "outputs": [],
   "source": [
    "combined_df['text_lemmatized'] = combined_df['text_meaningful'].map(lambda x: ' '.join([lemmatizer.lemmatize(word) for word in x]))"
   ]
  },
  {
   "cell_type": "code",
   "execution_count": 55,
   "metadata": {},
   "outputs": [
    {
     "data": {
      "text/html": [
       "<div>\n",
       "<style scoped>\n",
       "    .dataframe tbody tr th:only-of-type {\n",
       "        vertical-align: middle;\n",
       "    }\n",
       "\n",
       "    .dataframe tbody tr th {\n",
       "        vertical-align: top;\n",
       "    }\n",
       "\n",
       "    .dataframe thead th {\n",
       "        text-align: right;\n",
       "    }\n",
       "</style>\n",
       "<table border=\"1\" class=\"dataframe\">\n",
       "  <thead>\n",
       "    <tr style=\"text-align: right;\">\n",
       "      <th></th>\n",
       "      <th>title</th>\n",
       "      <th>selftext</th>\n",
       "      <th>text</th>\n",
       "      <th>digital_nomad</th>\n",
       "      <th>word_count</th>\n",
       "      <th>char_count</th>\n",
       "      <th>text_tokenized</th>\n",
       "      <th>text_meaningful</th>\n",
       "      <th>text_lemmatized</th>\n",
       "    </tr>\n",
       "  </thead>\n",
       "  <tbody>\n",
       "    <tr>\n",
       "      <th>0</th>\n",
       "      <td>Where to spend the next month in the USA -</td>\n",
       "      <td>I need to burn a month until mid-January. I ca...</td>\n",
       "      <td>Where to spend the next month in the USA - I n...</td>\n",
       "      <td>1</td>\n",
       "      <td>65</td>\n",
       "      <td>317</td>\n",
       "      <td>[Where, to, spend, the, next, month, in, the, ...</td>\n",
       "      <td>[Where, spend, month, USA, I, need, burn, mont...</td>\n",
       "      <td>Where spend month USA I need burn month mid Ja...</td>\n",
       "    </tr>\n",
       "    <tr>\n",
       "      <th>1</th>\n",
       "      <td>Apologies if this is old news</td>\n",
       "      <td>https://tulsaremote.com/</td>\n",
       "      <td>Apologies if this is old news</td>\n",
       "      <td>1</td>\n",
       "      <td>6</td>\n",
       "      <td>31</td>\n",
       "      <td>[Apologies, if, this, is, old, news]</td>\n",
       "      <td>[Apologies, old, news]</td>\n",
       "      <td>Apologies old news</td>\n",
       "    </tr>\n",
       "    <tr>\n",
       "      <th>2</th>\n",
       "      <td>Where to look for cheap flights around Europe?</td>\n",
       "      <td>I've always heard of people getting £10 flight...</td>\n",
       "      <td>Where to look for cheap flights around Europe?...</td>\n",
       "      <td>1</td>\n",
       "      <td>48</td>\n",
       "      <td>257</td>\n",
       "      <td>[Where, to, look, for, cheap, flights, around,...</td>\n",
       "      <td>[Where, look, cheap, flights, Europe, I, heard...</td>\n",
       "      <td>Where look cheap flight Europe I heard people ...</td>\n",
       "    </tr>\n",
       "    <tr>\n",
       "      <th>3</th>\n",
       "      <td>Social media training</td>\n",
       "      <td>Hi all! I am a digital marketing professional ...</td>\n",
       "      <td>Social media training Hi all! I am a   marketi...</td>\n",
       "      <td>1</td>\n",
       "      <td>43</td>\n",
       "      <td>265</td>\n",
       "      <td>[Social, media, training, Hi, all, I, am, a, m...</td>\n",
       "      <td>[Social, media, training, Hi, I, marketing, pr...</td>\n",
       "      <td>Social medium training Hi I marketing professi...</td>\n",
       "    </tr>\n",
       "    <tr>\n",
       "      <th>4</th>\n",
       "      <td>Suggestions for place to live in US? (Preferab...</td>\n",
       "      <td>I'm starting my first remote job in January an...</td>\n",
       "      <td>Suggestions for place to live in US? (Preferab...</td>\n",
       "      <td>1</td>\n",
       "      <td>53</td>\n",
       "      <td>309</td>\n",
       "      <td>[Suggestions, for, place, to, live, in, US, Pr...</td>\n",
       "      <td>[Suggestions, place, live, US, Preferably, sem...</td>\n",
       "      <td>Suggestions place live US Preferably semi urba...</td>\n",
       "    </tr>\n",
       "  </tbody>\n",
       "</table>\n",
       "</div>"
      ],
      "text/plain": [
       "                                               title  \\\n",
       "0         Where to spend the next month in the USA -   \n",
       "1                      Apologies if this is old news   \n",
       "2     Where to look for cheap flights around Europe?   \n",
       "3                              Social media training   \n",
       "4  Suggestions for place to live in US? (Preferab...   \n",
       "\n",
       "                                            selftext  \\\n",
       "0  I need to burn a month until mid-January. I ca...   \n",
       "1                           https://tulsaremote.com/   \n",
       "2  I've always heard of people getting £10 flight...   \n",
       "3  Hi all! I am a digital marketing professional ...   \n",
       "4  I'm starting my first remote job in January an...   \n",
       "\n",
       "                                                text  digital_nomad  \\\n",
       "0  Where to spend the next month in the USA - I n...              1   \n",
       "1                    Apologies if this is old news                1   \n",
       "2  Where to look for cheap flights around Europe?...              1   \n",
       "3  Social media training Hi all! I am a   marketi...              1   \n",
       "4  Suggestions for place to live in US? (Preferab...              1   \n",
       "\n",
       "   word_count  char_count                                     text_tokenized  \\\n",
       "0          65         317  [Where, to, spend, the, next, month, in, the, ...   \n",
       "1           6          31               [Apologies, if, this, is, old, news]   \n",
       "2          48         257  [Where, to, look, for, cheap, flights, around,...   \n",
       "3          43         265  [Social, media, training, Hi, all, I, am, a, m...   \n",
       "4          53         309  [Suggestions, for, place, to, live, in, US, Pr...   \n",
       "\n",
       "                                     text_meaningful  \\\n",
       "0  [Where, spend, month, USA, I, need, burn, mont...   \n",
       "1                             [Apologies, old, news]   \n",
       "2  [Where, look, cheap, flights, Europe, I, heard...   \n",
       "3  [Social, media, training, Hi, I, marketing, pr...   \n",
       "4  [Suggestions, place, live, US, Preferably, sem...   \n",
       "\n",
       "                                     text_lemmatized  \n",
       "0  Where spend month USA I need burn month mid Ja...  \n",
       "1                                 Apologies old news  \n",
       "2  Where look cheap flight Europe I heard people ...  \n",
       "3  Social medium training Hi I marketing professi...  \n",
       "4  Suggestions place live US Preferably semi urba...  "
      ]
     },
     "execution_count": 55,
     "metadata": {},
     "output_type": "execute_result"
    }
   ],
   "source": [
    "combined_df.head()"
   ]
  },
  {
   "cell_type": "markdown",
   "metadata": {},
   "source": [
    "#### Count Vectorize"
   ]
  },
  {
   "cell_type": "markdown",
   "metadata": {},
   "source": [
    "With the `text_lemmatized` column, we're ready to visualize the frequency of words in the posts. \n",
    "\n",
    "We instantiate CountVectorizer() and set:\n",
    "-  `min_df=.03`: ignore terms that have a document frequency lower than 3%. We do not want to include terms that occur in less than 3% of the documents because they can simply be common typos.\n",
    "-  `max_df=.95`: ignore terms that have a document frequency greater than 95%. We do not want to include terms that occur in almost all documents because they're likely to occur in both subreddits and will not help categorize a given post in one or the other community. \n",
    "\n",
    "We create a dataframe with all the words in our corpus and their count."
   ]
  },
  {
   "cell_type": "code",
   "execution_count": 56,
   "metadata": {},
   "outputs": [],
   "source": [
    "vect = CountVectorizer(min_df=.03, max_df=.95)\n",
    "X = vect.fit_transform(combined_df['text_lemmatized'])\n",
    "text = pd.DataFrame(X.toarray(), columns=vect.get_feature_names())"
   ]
  },
  {
   "cell_type": "markdown",
   "metadata": {},
   "source": [
    "In order to determine the subreddit in which a document belongs in, we set the `digital_nomad` column from our combined dataframe as the index."
   ]
  },
  {
   "cell_type": "code",
   "execution_count": 57,
   "metadata": {},
   "outputs": [],
   "source": [
    "text.index = combined_df['digital_nomad']"
   ]
  },
  {
   "cell_type": "code",
   "execution_count": 58,
   "metadata": {},
   "outputs": [
    {
     "data": {
      "text/html": [
       "<div>\n",
       "<style scoped>\n",
       "    .dataframe tbody tr th:only-of-type {\n",
       "        vertical-align: middle;\n",
       "    }\n",
       "\n",
       "    .dataframe tbody tr th {\n",
       "        vertical-align: top;\n",
       "    }\n",
       "\n",
       "    .dataframe thead th {\n",
       "        text-align: right;\n",
       "    }\n",
       "</style>\n",
       "<table border=\"1\" class=\"dataframe\">\n",
       "  <thead>\n",
       "    <tr style=\"text-align: right;\">\n",
       "      <th></th>\n",
       "      <th>able</th>\n",
       "      <th>abroad</th>\n",
       "      <th>actually</th>\n",
       "      <th>advance</th>\n",
       "      <th>advice</th>\n",
       "      <th>ago</th>\n",
       "      <th>airbnb</th>\n",
       "      <th>also</th>\n",
       "      <th>america</th>\n",
       "      <th>and</th>\n",
       "      <th>...</th>\n",
       "      <th>what</th>\n",
       "      <th>where</th>\n",
       "      <th>wondering</th>\n",
       "      <th>work</th>\n",
       "      <th>working</th>\n",
       "      <th>world</th>\n",
       "      <th>worth</th>\n",
       "      <th>would</th>\n",
       "      <th>year</th>\n",
       "      <th>you</th>\n",
       "    </tr>\n",
       "    <tr>\n",
       "      <th>digital_nomad</th>\n",
       "      <th></th>\n",
       "      <th></th>\n",
       "      <th></th>\n",
       "      <th></th>\n",
       "      <th></th>\n",
       "      <th></th>\n",
       "      <th></th>\n",
       "      <th></th>\n",
       "      <th></th>\n",
       "      <th></th>\n",
       "      <th></th>\n",
       "      <th></th>\n",
       "      <th></th>\n",
       "      <th></th>\n",
       "      <th></th>\n",
       "      <th></th>\n",
       "      <th></th>\n",
       "      <th></th>\n",
       "      <th></th>\n",
       "      <th></th>\n",
       "      <th></th>\n",
       "    </tr>\n",
       "  </thead>\n",
       "  <tbody>\n",
       "    <tr>\n",
       "      <th>1</th>\n",
       "      <td>0</td>\n",
       "      <td>0</td>\n",
       "      <td>0</td>\n",
       "      <td>0</td>\n",
       "      <td>0</td>\n",
       "      <td>0</td>\n",
       "      <td>0</td>\n",
       "      <td>0</td>\n",
       "      <td>0</td>\n",
       "      <td>0</td>\n",
       "      <td>...</td>\n",
       "      <td>0</td>\n",
       "      <td>2</td>\n",
       "      <td>0</td>\n",
       "      <td>0</td>\n",
       "      <td>0</td>\n",
       "      <td>0</td>\n",
       "      <td>0</td>\n",
       "      <td>0</td>\n",
       "      <td>0</td>\n",
       "      <td>0</td>\n",
       "    </tr>\n",
       "    <tr>\n",
       "      <th>1</th>\n",
       "      <td>0</td>\n",
       "      <td>0</td>\n",
       "      <td>0</td>\n",
       "      <td>0</td>\n",
       "      <td>0</td>\n",
       "      <td>0</td>\n",
       "      <td>0</td>\n",
       "      <td>0</td>\n",
       "      <td>0</td>\n",
       "      <td>0</td>\n",
       "      <td>...</td>\n",
       "      <td>0</td>\n",
       "      <td>0</td>\n",
       "      <td>0</td>\n",
       "      <td>0</td>\n",
       "      <td>0</td>\n",
       "      <td>0</td>\n",
       "      <td>0</td>\n",
       "      <td>0</td>\n",
       "      <td>0</td>\n",
       "      <td>0</td>\n",
       "    </tr>\n",
       "    <tr>\n",
       "      <th>1</th>\n",
       "      <td>0</td>\n",
       "      <td>0</td>\n",
       "      <td>0</td>\n",
       "      <td>0</td>\n",
       "      <td>0</td>\n",
       "      <td>0</td>\n",
       "      <td>0</td>\n",
       "      <td>0</td>\n",
       "      <td>0</td>\n",
       "      <td>0</td>\n",
       "      <td>...</td>\n",
       "      <td>0</td>\n",
       "      <td>1</td>\n",
       "      <td>0</td>\n",
       "      <td>0</td>\n",
       "      <td>0</td>\n",
       "      <td>0</td>\n",
       "      <td>0</td>\n",
       "      <td>0</td>\n",
       "      <td>0</td>\n",
       "      <td>0</td>\n",
       "    </tr>\n",
       "    <tr>\n",
       "      <th>1</th>\n",
       "      <td>0</td>\n",
       "      <td>0</td>\n",
       "      <td>0</td>\n",
       "      <td>0</td>\n",
       "      <td>0</td>\n",
       "      <td>0</td>\n",
       "      <td>0</td>\n",
       "      <td>0</td>\n",
       "      <td>0</td>\n",
       "      <td>0</td>\n",
       "      <td>...</td>\n",
       "      <td>0</td>\n",
       "      <td>0</td>\n",
       "      <td>0</td>\n",
       "      <td>0</td>\n",
       "      <td>1</td>\n",
       "      <td>0</td>\n",
       "      <td>0</td>\n",
       "      <td>0</td>\n",
       "      <td>0</td>\n",
       "      <td>0</td>\n",
       "    </tr>\n",
       "    <tr>\n",
       "      <th>1</th>\n",
       "      <td>0</td>\n",
       "      <td>0</td>\n",
       "      <td>0</td>\n",
       "      <td>0</td>\n",
       "      <td>0</td>\n",
       "      <td>0</td>\n",
       "      <td>0</td>\n",
       "      <td>0</td>\n",
       "      <td>0</td>\n",
       "      <td>0</td>\n",
       "      <td>...</td>\n",
       "      <td>0</td>\n",
       "      <td>0</td>\n",
       "      <td>0</td>\n",
       "      <td>0</td>\n",
       "      <td>0</td>\n",
       "      <td>0</td>\n",
       "      <td>0</td>\n",
       "      <td>0</td>\n",
       "      <td>0</td>\n",
       "      <td>0</td>\n",
       "    </tr>\n",
       "  </tbody>\n",
       "</table>\n",
       "<p>5 rows × 237 columns</p>\n",
       "</div>"
      ],
      "text/plain": [
       "               able  abroad  actually  advance  advice  ago  airbnb  also  \\\n",
       "digital_nomad                                                               \n",
       "1                 0       0         0        0       0    0       0     0   \n",
       "1                 0       0         0        0       0    0       0     0   \n",
       "1                 0       0         0        0       0    0       0     0   \n",
       "1                 0       0         0        0       0    0       0     0   \n",
       "1                 0       0         0        0       0    0       0     0   \n",
       "\n",
       "               america  and ...   what  where  wondering  work  working  \\\n",
       "digital_nomad               ...                                           \n",
       "1                    0    0 ...      0      2          0     0        0   \n",
       "1                    0    0 ...      0      0          0     0        0   \n",
       "1                    0    0 ...      0      1          0     0        0   \n",
       "1                    0    0 ...      0      0          0     0        1   \n",
       "1                    0    0 ...      0      0          0     0        0   \n",
       "\n",
       "               world  worth  would  year  you  \n",
       "digital_nomad                                  \n",
       "1                  0      0      0     0    0  \n",
       "1                  0      0      0     0    0  \n",
       "1                  0      0      0     0    0  \n",
       "1                  0      0      0     0    0  \n",
       "1                  0      0      0     0    0  \n",
       "\n",
       "[5 rows x 237 columns]"
      ]
     },
     "execution_count": 58,
     "metadata": {},
     "output_type": "execute_result"
    }
   ],
   "source": [
    "text.head()"
   ]
  },
  {
   "cell_type": "markdown",
   "metadata": {},
   "source": [
    "##### **Digital Nomad Word Count**"
   ]
  },
  {
   "cell_type": "code",
   "execution_count": 59,
   "metadata": {},
   "outputs": [
    {
     "data": {
      "image/png": "[encoded data removed]",
      "text/plain": [
       "<Figure size 1440x720 with 1 Axes>"
      ]
     },
     "metadata": {},
     "output_type": "display_data"
    }
   ],
   "source": [
    "plt.figure(figsize=(20, 10))\n",
    "plt.barh(y = text[text.index == 1].sum().sort_values(ascending=False).head(20).index,\n",
    "         width = text[text.index == 1].sum().sort_values(ascending=False).head(20))\n",
    "plt.title('Top Word Count for Digital Nomad', fontsize=30)\n",
    "plt.xlabel('Count', fontsize=15)\n",
    "plt.xticks(fontsize=15)\n",
    "plt.yticks(fontsize=15);"
   ]
  },
  {
   "cell_type": "markdown",
   "metadata": {},
   "source": [
    "-  For r/digitalnomad, most of the top 20 words are either associated with work (`work`, `remote`, `company`) or indicates long-term plans (`year`, `month`). This aligns with what we think a digital nomad will consistenly talk about: \n",
    "    -  working remotely \n",
    "    -  lifestyle (something that's long-term rather than short-term)\n",
    "-  Words like `want`, `know`, `looking`, `need` can indicate users are using this community to both share and seek advice."
   ]
  },
  {
   "cell_type": "markdown",
   "metadata": {},
   "source": [
    "##### **Solo Travel Word Count**"
   ]
  },
  {
   "cell_type": "code",
   "execution_count": 60,
   "metadata": {},
   "outputs": [
    {
     "data": {
      "image/png": "[encoded data removed]",
      "text/plain": [
       "<Figure size 1440x720 with 1 Axes>"
      ]
     },
     "metadata": {},
     "output_type": "display_data"
    }
   ],
   "source": [
    "plt.figure(figsize=(20, 10))\n",
    "plt.barh(y = text[text.index == 0].sum().sort_values(ascending=False).head(20).index,\n",
    "         width = text[text.index == 0].sum().sort_values(ascending=False).head(20))\n",
    "plt.title('Top Word Count for Solo Travel', fontsize=30)\n",
    "plt.xlabel('Count', fontsize=15)\n",
    "plt.xticks(fontsize=15)\n",
    "plt.yticks(fontsize=15);"
   ]
  },
  {
   "cell_type": "markdown",
   "metadata": {},
   "source": [
    "-  For r/solotravel, most of the top 20 words indicate temporary plans.\n",
    "-  Words like `trip`, `week`, `hostel`, and `time` indicate users are posting about short-term trips. It's unlikely for a digital nomad to use words like these since they'll be looking for more permanent living situations. "
   ]
  },
  {
   "cell_type": "markdown",
   "metadata": {},
   "source": [
    "**Similarities:**\n",
    "-  The following words occur frequently in both subreddits:\n",
    "    -  like\n",
    "    -  day\n",
    "    -  time\n",
    "    -  looking\n",
    "    -  know\n",
    "    -  want\n",
    "    -  place\n",
    "    -  people\n",
    "    -  year\n",
    "    -  month\n",
    "-  Many of the words indicate both subreddits are used to share experiences and seek information. \n",
    "\n",
    "**Differences:**\n",
    "-  Even though the two subreddits share several frequently occuring words, the frequency within each still differs.\n",
    "-  `year` and `month` occurs more frequently in r/digitalnomad. \n",
    "-  On the other hand, `day` occurs the most frequently in r/solotravel compared to the 19th most frequent word in r/digitalnomad.\n",
    "-  `trip` is the second most frequent word in r/solotravel, yet it never occurs in r/digitalnomad. Given that digital nomads reside in a location for a longer period of time, it's unlikely for them to refer to it as a trip.\n",
    "-  `work` and `working` never occurs in r/solotravel, but is repeatedly seen in r/digitalnomad. Solo travelers are more likely to be to traveling for leisure and will not be mentioning anything work-related in the posts."
   ]
  },
  {
   "cell_type": "markdown",
   "metadata": {},
   "source": [
    "## Save as CSV"
   ]
  },
  {
   "cell_type": "code",
   "execution_count": 61,
   "metadata": {},
   "outputs": [],
   "source": [
    "combined_df.to_csv('../data/all_posts.csv')"
   ]
  },
  {
   "cell_type": "code",
   "execution_count": 62,
   "metadata": {},
   "outputs": [],
   "source": [
    "text.to_csv('../data/countvect.csv')"
   ]
  }
 ],
 "metadata": {
  "kernelspec": {
   "display_name": "Python 3",
   "language": "python",
   "name": "python3"
  },
  "language_info": {
   "codemirror_mode": {
    "name": "ipython",
    "version": 3
   },
   "file_extension": ".py",
   "mimetype": "text/x-python",
   "name": "python",
   "nbconvert_exporter": "python",
   "pygments_lexer": "ipython3",
   "version": "3.6.5"
  }
 },
 "nbformat": 4,
 "nbformat_minor": 2
}
