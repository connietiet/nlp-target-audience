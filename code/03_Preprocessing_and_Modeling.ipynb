{
 "cells": [
  {
   "cell_type": "markdown",
   "metadata": {},
   "source": [
    "# Preprocessing and Modeling"
   ]
  },
  {
   "cell_type": "markdown",
   "metadata": {},
   "source": [
    "## Contents\n",
    "\n",
    "-  [Import Data](#Import-Data)\n",
    "-  [Model Prep](#Model-Prep)\n",
    "-  [Modeling](#Modeling)\n",
    "    -  [Baseline Model](#Baseline-Model)\n",
    "    -  [Logistic Regression](#Logistic-Regression)\n",
    "        -  [Odds](#Odds)\n",
    "        -  [Predictions and Probabilities](#Predictions-and-Probabilities)\n",
    "    -  [Random Forest](#Random-Forest)\n",
    "        -  [Important Features](#Important-Features)\n",
    "        -  [Predictions](#Predictions)\n",
    "-  [Model Comparison](#Model-Comparison)\n",
    "-  [Conclusions and Recommendations](#Conclusions-and-Recommendations)\n"
   ]
  },
  {
   "cell_type": "code",
   "execution_count": 1,
   "metadata": {},
   "outputs": [
    {
     "name": "stderr",
     "output_type": "stream",
     "text": [
      "/Users/connie/anaconda3/lib/python3.6/site-packages/sklearn/ensemble/weight_boosting.py:29: DeprecationWarning: numpy.core.umath_tests is an internal NumPy module and should not be imported. It will be removed in a future NumPy release.\n",
      "  from numpy.core.umath_tests import inner1d\n"
     ]
    }
   ],
   "source": [
    "import pandas as pd\n",
    "import numpy as np\n",
    "import matplotlib.pyplot as plt\n",
    "import seaborn as sns\n",
    "from sklearn.pipeline import Pipeline\n",
    "from sklearn.model_selection import train_test_split, GridSearchCV\n",
    "from sklearn.linear_model import LogisticRegression, LogisticRegressionCV\n",
    "from sklearn.feature_extraction.text import CountVectorizer, TfidfVectorizer\n",
    "from sklearn.feature_extraction import stop_words\n",
    "from sklearn.ensemble import RandomForestClassifier\n",
    "from sklearn.metrics import confusion_matrix\n",
    "\n",
    "sns.set_style('darkgrid')\n",
    "sns.set_palette(palette='colorblind')\n",
    "np.random.seed(44)\n",
    "%matplotlib inline"
   ]
  },
  {
   "cell_type": "markdown",
   "metadata": {},
   "source": [
    "## Import Data"
   ]
  },
  {
   "cell_type": "code",
   "execution_count": 2,
   "metadata": {},
   "outputs": [],
   "source": [
    "posts = pd.read_csv('../data/all_posts.csv')"
   ]
  },
  {
   "cell_type": "code",
   "execution_count": 3,
   "metadata": {},
   "outputs": [
    {
     "data": {
      "text/html": [
       "<div>\n",
       "<style scoped>\n",
       "    .dataframe tbody tr th:only-of-type {\n",
       "        vertical-align: middle;\n",
       "    }\n",
       "\n",
       "    .dataframe tbody tr th {\n",
       "        vertical-align: top;\n",
       "    }\n",
       "\n",
       "    .dataframe thead th {\n",
       "        text-align: right;\n",
       "    }\n",
       "</style>\n",
       "<table border=\"1\" class=\"dataframe\">\n",
       "  <thead>\n",
       "    <tr style=\"text-align: right;\">\n",
       "      <th></th>\n",
       "      <th>Unnamed: 0</th>\n",
       "      <th>title</th>\n",
       "      <th>selftext</th>\n",
       "      <th>text</th>\n",
       "      <th>digital_nomad</th>\n",
       "      <th>word_count</th>\n",
       "      <th>char_count</th>\n",
       "      <th>text_tokenized</th>\n",
       "      <th>text_meaningful</th>\n",
       "      <th>text_lemmatized</th>\n",
       "    </tr>\n",
       "  </thead>\n",
       "  <tbody>\n",
       "    <tr>\n",
       "      <th>0</th>\n",
       "      <td>0</td>\n",
       "      <td>Where to spend the next month in the USA -</td>\n",
       "      <td>I need to burn a month until mid-January. I ca...</td>\n",
       "      <td>Where to spend the next month in the USA - I n...</td>\n",
       "      <td>1</td>\n",
       "      <td>65</td>\n",
       "      <td>317</td>\n",
       "      <td>['Where', 'to', 'spend', 'the', 'next', 'month...</td>\n",
       "      <td>['Where', 'spend', 'month', 'USA', 'I', 'need'...</td>\n",
       "      <td>Where spend month USA I need burn month mid Ja...</td>\n",
       "    </tr>\n",
       "    <tr>\n",
       "      <th>1</th>\n",
       "      <td>1</td>\n",
       "      <td>Apologies if this is old news</td>\n",
       "      <td>https://tulsaremote.com/</td>\n",
       "      <td>Apologies if this is old news</td>\n",
       "      <td>1</td>\n",
       "      <td>6</td>\n",
       "      <td>31</td>\n",
       "      <td>['Apologies', 'if', 'this', 'is', 'old', 'news']</td>\n",
       "      <td>['Apologies', 'old', 'news']</td>\n",
       "      <td>Apologies old news</td>\n",
       "    </tr>\n",
       "    <tr>\n",
       "      <th>2</th>\n",
       "      <td>2</td>\n",
       "      <td>Where to look for cheap flights around Europe?</td>\n",
       "      <td>I've always heard of people getting £10 flight...</td>\n",
       "      <td>Where to look for cheap flights around Europe?...</td>\n",
       "      <td>1</td>\n",
       "      <td>48</td>\n",
       "      <td>257</td>\n",
       "      <td>['Where', 'to', 'look', 'for', 'cheap', 'fligh...</td>\n",
       "      <td>['Where', 'look', 'cheap', 'flights', 'Europe'...</td>\n",
       "      <td>Where look cheap flight Europe I heard people ...</td>\n",
       "    </tr>\n",
       "    <tr>\n",
       "      <th>3</th>\n",
       "      <td>3</td>\n",
       "      <td>Social media training</td>\n",
       "      <td>Hi all! I am a digital marketing professional ...</td>\n",
       "      <td>Social media training Hi all! I am a   marketi...</td>\n",
       "      <td>1</td>\n",
       "      <td>43</td>\n",
       "      <td>265</td>\n",
       "      <td>['Social', 'media', 'training', 'Hi', 'all', '...</td>\n",
       "      <td>['Social', 'media', 'training', 'Hi', 'I', 'ma...</td>\n",
       "      <td>Social medium training Hi I marketing professi...</td>\n",
       "    </tr>\n",
       "    <tr>\n",
       "      <th>4</th>\n",
       "      <td>4</td>\n",
       "      <td>Suggestions for place to live in US? (Preferab...</td>\n",
       "      <td>I'm starting my first remote job in January an...</td>\n",
       "      <td>Suggestions for place to live in US? (Preferab...</td>\n",
       "      <td>1</td>\n",
       "      <td>53</td>\n",
       "      <td>309</td>\n",
       "      <td>['Suggestions', 'for', 'place', 'to', 'live', ...</td>\n",
       "      <td>['Suggestions', 'place', 'live', 'US', 'Prefer...</td>\n",
       "      <td>Suggestions place live US Preferably semi urba...</td>\n",
       "    </tr>\n",
       "  </tbody>\n",
       "</table>\n",
       "</div>"
      ],
      "text/plain": [
       "   Unnamed: 0                                              title  \\\n",
       "0           0         Where to spend the next month in the USA -   \n",
       "1           1                      Apologies if this is old news   \n",
       "2           2     Where to look for cheap flights around Europe?   \n",
       "3           3                              Social media training   \n",
       "4           4  Suggestions for place to live in US? (Preferab...   \n",
       "\n",
       "                                            selftext  \\\n",
       "0  I need to burn a month until mid-January. I ca...   \n",
       "1                           https://tulsaremote.com/   \n",
       "2  I've always heard of people getting £10 flight...   \n",
       "3  Hi all! I am a digital marketing professional ...   \n",
       "4  I'm starting my first remote job in January an...   \n",
       "\n",
       "                                                text  digital_nomad  \\\n",
       "0  Where to spend the next month in the USA - I n...              1   \n",
       "1                    Apologies if this is old news                1   \n",
       "2  Where to look for cheap flights around Europe?...              1   \n",
       "3  Social media training Hi all! I am a   marketi...              1   \n",
       "4  Suggestions for place to live in US? (Preferab...              1   \n",
       "\n",
       "   word_count  char_count                                     text_tokenized  \\\n",
       "0          65         317  ['Where', 'to', 'spend', 'the', 'next', 'month...   \n",
       "1           6          31   ['Apologies', 'if', 'this', 'is', 'old', 'news']   \n",
       "2          48         257  ['Where', 'to', 'look', 'for', 'cheap', 'fligh...   \n",
       "3          43         265  ['Social', 'media', 'training', 'Hi', 'all', '...   \n",
       "4          53         309  ['Suggestions', 'for', 'place', 'to', 'live', ...   \n",
       "\n",
       "                                     text_meaningful  \\\n",
       "0  ['Where', 'spend', 'month', 'USA', 'I', 'need'...   \n",
       "1                       ['Apologies', 'old', 'news']   \n",
       "2  ['Where', 'look', 'cheap', 'flights', 'Europe'...   \n",
       "3  ['Social', 'media', 'training', 'Hi', 'I', 'ma...   \n",
       "4  ['Suggestions', 'place', 'live', 'US', 'Prefer...   \n",
       "\n",
       "                                     text_lemmatized  \n",
       "0  Where spend month USA I need burn month mid Ja...  \n",
       "1                                 Apologies old news  \n",
       "2  Where look cheap flight Europe I heard people ...  \n",
       "3  Social medium training Hi I marketing professi...  \n",
       "4  Suggestions place live US Preferably semi urba...  "
      ]
     },
     "execution_count": 3,
     "metadata": {},
     "output_type": "execute_result"
    }
   ],
   "source": [
    "posts.head()"
   ]
  },
  {
   "cell_type": "markdown",
   "metadata": {},
   "source": [
    "Remove `Unnamed: 0` column"
   ]
  },
  {
   "cell_type": "code",
   "execution_count": 4,
   "metadata": {},
   "outputs": [],
   "source": [
    "posts.drop(columns='Unnamed: 0', inplace=True)"
   ]
  },
  {
   "cell_type": "markdown",
   "metadata": {},
   "source": [
    "## Model Prep"
   ]
  },
  {
   "cell_type": "code",
   "execution_count": 5,
   "metadata": {},
   "outputs": [],
   "source": [
    "X = posts[['text_lemmatized']]\n",
    "y = posts['digital_nomad']"
   ]
  },
  {
   "cell_type": "code",
   "execution_count": 6,
   "metadata": {},
   "outputs": [],
   "source": [
    "X_train, X_test, y_train, y_test = train_test_split(X, \n",
    "                                                    y, \n",
    "                                                    stratify=y, \n",
    "                                                    random_state=44)"
   ]
  },
  {
   "cell_type": "markdown",
   "metadata": {},
   "source": [
    "### TF-IDF"
   ]
  },
  {
   "cell_type": "markdown",
   "metadata": {},
   "source": [
    "Before modeling, we want to use TF-IDF to determine which words are most discriminating between documents. Words that occur frequently are penalized and rare words are given more influence in our model. \n",
    "\n",
    "This is preferred over CountVectorizer because it takes into account how many documents contain a term in relation to the entire corpus. Since CountVectorizer only looks at the count, one post that repeatedly uses a word can inflate its frequency. \n",
    "\n",
    "We instantiate TfidfVectorizer() and set:\n",
    "-  `min_df=.03`: ignore terms that have a document frequency lower than 3%. We do not want to include terms that occur in less than 3% of the documents because they can simply be common typos.\n",
    "-  `max_df=.95`: ignore terms that have a document frequency greater than 95%. We do not want to include terms that occur in almost all documents because they're likely to occur in both subreddits and will not help categorize a given post in one or the other community.\n",
    "\n",
    "We then create a dataframe for each word and its frequency. This is done for both `X_train` and `X_test`."
   ]
  },
  {
   "cell_type": "markdown",
   "metadata": {},
   "source": [
    "##### X_train"
   ]
  },
  {
   "cell_type": "code",
   "execution_count": 7,
   "metadata": {},
   "outputs": [],
   "source": [
    "tfidf = TfidfVectorizer(min_df=.03, max_df=.95)\n",
    "X_train_tfidf = tfidf.fit_transform(X_train['text_lemmatized'])\n",
    "X_train_tfidf_df = pd.DataFrame(X_train_tfidf.toarray(), columns=tfidf.get_feature_names())"
   ]
  },
  {
   "cell_type": "markdown",
   "metadata": {},
   "source": [
    "##### Replicate for X_test"
   ]
  },
  {
   "cell_type": "code",
   "execution_count": 8,
   "metadata": {},
   "outputs": [],
   "source": [
    "X_test_tfidf = tfidf.transform(X_test['text_lemmatized'])\n",
    "X_test_tfidf_df = pd.DataFrame(X_test_tfidf.toarray(), columns=tfidf.get_feature_names())"
   ]
  },
  {
   "cell_type": "code",
   "execution_count": 9,
   "metadata": {},
   "outputs": [
    {
     "data": {
      "text/plain": [
       "(2687, 237)"
      ]
     },
     "execution_count": 9,
     "metadata": {},
     "output_type": "execute_result"
    }
   ],
   "source": [
    "X_test_tfidf_df.shape"
   ]
  },
  {
   "cell_type": "markdown",
   "metadata": {},
   "source": [
    "## Modeling"
   ]
  },
  {
   "cell_type": "markdown",
   "metadata": {},
   "source": [
    "### Baseline Model"
   ]
  },
  {
   "cell_type": "code",
   "execution_count": 10,
   "metadata": {},
   "outputs": [
    {
     "data": {
      "text/plain": [
       "0    0.52466\n",
       "1    0.47534\n",
       "Name: digital_nomad, dtype: float64"
      ]
     },
     "execution_count": 10,
     "metadata": {},
     "output_type": "execute_result"
    }
   ],
   "source": [
    "y.value_counts(normalize=True)"
   ]
  },
  {
   "cell_type": "markdown",
   "metadata": {},
   "source": [
    "Since r/solotravel is our majority class, an accuracy score of 52.47% is our baseline model. If we classify all posts as belonging in the r/solotravel subreddit, we will be predicting correctly 52.47% of the time."
   ]
  },
  {
   "cell_type": "markdown",
   "metadata": {},
   "source": [
    "### Logistic Regression"
   ]
  },
  {
   "cell_type": "markdown",
   "metadata": {},
   "source": [
    "Logistic Regression predicts continuous probabilities and uses these probabilities to classify something as 0 or 1. It assumes:\n",
    "-  Linearity between our X variables and the log-odds that `digital_nomad` (Y) = 1\n",
    "-  Independence of errors\n",
    "-  Distribution of errors follow a Bernoulli distribution\n",
    "-  Independence of independent variables (X)\n",
    "\n",
    "**Reason for Choosing Model:** The coefficients in a logistic regression model is easy to interpret and will allow us to determine which terms should be used as positive and negative keywords in our campaign.\n",
    "\n",
    "We will instantiate Logistic Regression and perform Grid Search to find the most optimal hyperparameters: \n",
    "-  **Penalty:** l1 (lasso) or l2 (ridge) regularization\n",
    "-  **C:** Inverse of regularization strength. The greater its value, the weaker the regularization strength is. The default value of `1` was included, in addition to our arbitrarily chosen values."
   ]
  },
  {
   "cell_type": "code",
   "execution_count": 11,
   "metadata": {},
   "outputs": [
    {
     "name": "stdout",
     "output_type": "stream",
     "text": [
      "Score on Training Set: 0.8323613351532448\n",
      "Score on Testing Set: 0.8135467063639747\n"
     ]
    },
    {
     "data": {
      "text/plain": [
       "{'C': 1, 'penalty': 'l1'}"
      ]
     },
     "execution_count": 11,
     "metadata": {},
     "output_type": "execute_result"
    }
   ],
   "source": [
    "logreg = LogisticRegression()\n",
    "logreg_params = {\n",
    "    'penalty':['l1', 'l2'],\n",
    "    'C': [1, 10, 20]\n",
    "}\n",
    "gs_logreg = GridSearchCV(logreg, param_grid=logreg_params, cv=5)\n",
    "gs_logreg.fit(X_train_tfidf_df, y_train)\n",
    "print('Score on Training Set:', gs_logreg.score(X_train_tfidf_df, y_train))\n",
    "print('Score on Testing Set:', gs_logreg.score(X_test_tfidf_df, y_test))\n",
    "gs_logreg.best_params_"
   ]
  },
  {
   "cell_type": "markdown",
   "metadata": {},
   "source": [
    "-  For `y_train`, we will correctly predict the class in which a post belongs in 83.24% of the time.\n",
    "-  For `y_test`, we will correctly predict the class in which a post belongs in 81.35% of the time. \n",
    "\n",
    "#### Takeaways\n",
    "-  There is some slight overfitting, with our training score being 1.89% higher than our test score. \n",
    "-  The accuracy scores are greater than our baseline model of `52.47`.\n",
    "-  Given that we can easily determine how likely, or unlikely a given word will appear in r/digitalnomad, we will move forward with this model and determine what our positive and negative keywords are."
   ]
  },
  {
   "cell_type": "markdown",
   "metadata": {},
   "source": [
    "#### Odds"
   ]
  },
  {
   "cell_type": "markdown",
   "metadata": {},
   "source": [
    "For interpretability sake, we take the exponential of the log odds of successs."
   ]
  },
  {
   "cell_type": "code",
   "execution_count": 12,
   "metadata": {},
   "outputs": [],
   "source": [
    "odds_df = pd.DataFrame(np.exp(gs_logreg.best_estimator_.coef_), columns=X_train_tfidf_df.columns).T"
   ]
  },
  {
   "cell_type": "code",
   "execution_count": 13,
   "metadata": {},
   "outputs": [],
   "source": [
    "odds_df.columns = ['odds']"
   ]
  },
  {
   "cell_type": "code",
   "execution_count": 14,
   "metadata": {},
   "outputs": [
    {
     "data": {
      "text/plain": [
       "237"
      ]
     },
     "execution_count": 14,
     "metadata": {},
     "output_type": "execute_result"
    }
   ],
   "source": [
    "odds_df.shape[0]"
   ]
  },
  {
   "cell_type": "markdown",
   "metadata": {},
   "source": [
    "The model has a total of 237 features."
   ]
  },
  {
   "cell_type": "code",
   "execution_count": 15,
   "metadata": {},
   "outputs": [
    {
     "data": {
      "text/html": [
       "<div>\n",
       "<style scoped>\n",
       "    .dataframe tbody tr th:only-of-type {\n",
       "        vertical-align: middle;\n",
       "    }\n",
       "\n",
       "    .dataframe tbody tr th {\n",
       "        vertical-align: top;\n",
       "    }\n",
       "\n",
       "    .dataframe thead th {\n",
       "        text-align: right;\n",
       "    }\n",
       "</style>\n",
       "<table border=\"1\" class=\"dataframe\">\n",
       "  <thead>\n",
       "    <tr style=\"text-align: right;\">\n",
       "      <th></th>\n",
       "      <th>odds</th>\n",
       "    </tr>\n",
       "  </thead>\n",
       "  <tbody>\n",
       "    <tr>\n",
       "      <th>remote</th>\n",
       "      <td>10484.670286</td>\n",
       "    </tr>\n",
       "    <tr>\n",
       "      <th>internet</th>\n",
       "      <td>874.276704</td>\n",
       "    </tr>\n",
       "    <tr>\n",
       "      <th>remotely</th>\n",
       "      <td>141.741454</td>\n",
       "    </tr>\n",
       "    <tr>\n",
       "      <th>business</th>\n",
       "      <td>75.935931</td>\n",
       "    </tr>\n",
       "    <tr>\n",
       "      <th>living</th>\n",
       "      <td>37.795396</td>\n",
       "    </tr>\n",
       "  </tbody>\n",
       "</table>\n",
       "</div>"
      ],
      "text/plain": [
       "                  odds\n",
       "remote    10484.670286\n",
       "internet    874.276704\n",
       "remotely    141.741454\n",
       "business     75.935931\n",
       "living       37.795396"
      ]
     },
     "execution_count": 15,
     "metadata": {},
     "output_type": "execute_result"
    }
   ],
   "source": [
    "odds_df.sort_values(by='odds', ascending=False)[['odds']].head()"
   ]
  },
  {
   "cell_type": "markdown",
   "metadata": {},
   "source": [
    "-  The top 5 words with the *highest* odds of success are associated with work and lifefstyle, and align with what we expect digital nomads to be discussing.\n",
    "-  A one-unit change in `remote` means that success is 10484.67 times as likely. Given the odds, a post that contains this word will almost always be classified in r/digitalnomad."
   ]
  },
  {
   "cell_type": "code",
   "execution_count": 16,
   "metadata": {},
   "outputs": [
    {
     "data": {
      "text/html": [
       "<div>\n",
       "<style scoped>\n",
       "    .dataframe tbody tr th:only-of-type {\n",
       "        vertical-align: middle;\n",
       "    }\n",
       "\n",
       "    .dataframe tbody tr th {\n",
       "        vertical-align: top;\n",
       "    }\n",
       "\n",
       "    .dataframe thead th {\n",
       "        text-align: right;\n",
       "    }\n",
       "</style>\n",
       "<table border=\"1\" class=\"dataframe\">\n",
       "  <thead>\n",
       "    <tr style=\"text-align: right;\">\n",
       "      <th></th>\n",
       "      <th>odds</th>\n",
       "    </tr>\n",
       "  </thead>\n",
       "  <tbody>\n",
       "    <tr>\n",
       "      <th>trip</th>\n",
       "      <td>0.000646</td>\n",
       "    </tr>\n",
       "    <tr>\n",
       "      <th>hostel</th>\n",
       "      <td>0.001268</td>\n",
       "    </tr>\n",
       "    <tr>\n",
       "      <th>january</th>\n",
       "      <td>0.026250</td>\n",
       "    </tr>\n",
       "    <tr>\n",
       "      <th>itinerary</th>\n",
       "      <td>0.034627</td>\n",
       "    </tr>\n",
       "    <tr>\n",
       "      <th>booked</th>\n",
       "      <td>0.039108</td>\n",
       "    </tr>\n",
       "  </tbody>\n",
       "</table>\n",
       "</div>"
      ],
      "text/plain": [
       "               odds\n",
       "trip       0.000646\n",
       "hostel     0.001268\n",
       "january    0.026250\n",
       "itinerary  0.034627\n",
       "booked     0.039108"
      ]
     },
     "execution_count": 16,
     "metadata": {},
     "output_type": "execute_result"
    }
   ],
   "source": [
    "odds_df.sort_values(by='odds', ascending=True)[['odds']].head()"
   ]
  },
  {
   "cell_type": "markdown",
   "metadata": {},
   "source": [
    "-  The top 5 words with the *lowest* odds of success indicate a temporary, leisure travel.\n",
    "-  A one-unit change in `trip` means that success is 0.000646 times as likely. A post that contains this word will unlikely be classified in r/digitalnomad.\n",
    "-  Words like `trip` and `hostel` coincides with what we saw early when looking at the word count (CountVectorizer()). They appeared frequently in r/solotravel, with `trip` being the most common, but not in r/digitalnomad.\n",
    "-  The word `january` can indicate individuals are planning for a winter vacation."
   ]
  },
  {
   "cell_type": "markdown",
   "metadata": {},
   "source": [
    "#### Visualize Odds"
   ]
  },
  {
   "cell_type": "code",
   "execution_count": 17,
   "metadata": {},
   "outputs": [
    {
     "data": {
      "image/png": "[encoded data removed]",
      "text/plain": [
       "<Figure size 1440x1080 with 1 Axes>"
      ]
     },
     "metadata": {},
     "output_type": "display_data"
    }
   ],
   "source": [
    "plt.figure(figsize=(20, 15))\n",
    "plt.barh(y = odds_df.sort_values(by='odds', ascending=False)['odds'].head(10).index,\n",
    "         width= odds_df.sort_values(by='odds', ascending=False)['odds'].head(10).values,\n",
    "         log=True)\n",
    "plt.yticks(fontsize=20)\n",
    "plt.xticks(fontsize=20)\n",
    "plt.xlabel('Odds', fontsize=25)\n",
    "plt.title(f'Words with Highest Odds', fontsize=30)\n",
    "plt.tight_layout()"
   ]
  },
  {
   "cell_type": "markdown",
   "metadata": {},
   "source": [
    "-  A post that contains one or a combination of these top 10 words increases the likelihood of it being classified in r/digitalnomad. \n",
    "-  Words like `remote`, `internet`, and `online` indicate the importance of technology to digital nomads. \n",
    "-  `we` being included in the top 10 can imply that digital nomads are not necessarily traveling or working abroad alone. Whereas in r/solotravel, the name itself suggests so. "
   ]
  },
  {
   "cell_type": "markdown",
   "metadata": {},
   "source": [
    "In order to visualize how some of these words compare across subreddits, we'll read in the count vectorize dataframe."
   ]
  },
  {
   "cell_type": "code",
   "execution_count": 18,
   "metadata": {},
   "outputs": [],
   "source": [
    "cvec_df = pd.read_csv('../data/countvect.csv')"
   ]
  },
  {
   "cell_type": "code",
   "execution_count": 19,
   "metadata": {},
   "outputs": [],
   "source": [
    "max_weight = cvec_df.groupby(by='digital_nomad',axis=0)['remote', 'internet', 'business', 'living',\n",
    "                                           'company', 'working', 'we', 'online'].sum()"
   ]
  },
  {
   "cell_type": "code",
   "execution_count": 20,
   "metadata": {},
   "outputs": [
    {
     "data": {
      "image/png": "[encoded data removed]",
      "text/plain": [
       "<Figure size 1440x720 with 1 Axes>"
      ]
     },
     "metadata": {},
     "output_type": "display_data"
    }
   ],
   "source": [
    "plt.figure(figsize=(20, 10))\n",
    "plt.bar(x=max_weight.columns,\n",
    "        height=list(max_weight.loc[1]),\n",
    "        align='edge',\n",
    "        width=-.4)\n",
    "plt.bar(x=max_weight.columns,\n",
    "        height=list(max_weight.loc[0]),\n",
    "        align='edge',\n",
    "        width=.4)\n",
    "plt.xticks(fontsize=20)\n",
    "plt.ylabel('Count', fontsize=25)\n",
    "plt.yticks(fontsize=20)\n",
    "plt.title('Count of Words with High Odds', fontsize=30)\n",
    "plt.legend(['digital nomad', 'solo travel'], fontsize=20);"
   ]
  },
  {
   "cell_type": "markdown",
   "metadata": {},
   "source": [
    "-  All the words with the highests odds have a much higher count in r/digitalnomad than r/solotravel.\n",
    "-  `remote` (highest odds) occurs over 1200 times in r/digitalnomad, but only about 30 times in r/solotravel. "
   ]
  },
  {
   "cell_type": "code",
   "execution_count": 21,
   "metadata": {},
   "outputs": [
    {
     "data": {
      "image/png": "[encoded data removed]",
      "text/plain": [
       "<Figure size 1440x1080 with 1 Axes>"
      ]
     },
     "metadata": {},
     "output_type": "display_data"
    }
   ],
   "source": [
    "plt.figure(figsize=(20, 15))\n",
    "plt.barh(y=odds_df.sort_values(by='odds',ascending=False)['odds'].tail(8).index,\n",
    "         width=odds_df.sort_values(by='odds',ascending=False)['odds'].tail(8).values)\n",
    "plt.yticks(fontsize=20)\n",
    "plt.xticks(fontsize=20)\n",
    "plt.xlabel('Odds', fontsize=25)\n",
    "plt.title(f'Words with Lowest Odds', fontsize=30)\n",
    "plt.tight_layout()"
   ]
  },
  {
   "cell_type": "markdown",
   "metadata": {},
   "source": [
    "-  A post that contains one or a combination of these words will decrease its likelihood of being classified in r/digitalnomad.\n",
    "-  Words like `trip`, `hostel`, `itinerary`, `booked` and `tour` imply a short term travel. It's highly unlikely for digital nomads to be residing in a hostel if they're planning to live in any given city for a long period of time. \n",
    "-  Since posts from r/solotravel were collected after August 10, 2018, `january` and `december` can indicate users planning trips for the next travel season (winter)."
   ]
  },
  {
   "cell_type": "code",
   "execution_count": 22,
   "metadata": {},
   "outputs": [],
   "source": [
    "min_weight = cvec_df.groupby(by='digital_nomad',axis=0)['trip', 'hostel', 'january', 'itinerary', 'booked', 'december', 'tour', 'going'].sum()"
   ]
  },
  {
   "cell_type": "code",
   "execution_count": 23,
   "metadata": {},
   "outputs": [
    {
     "data": {
      "image/png": "[encoded data removed]",
      "text/plain": [
       "<Figure size 1440x720 with 1 Axes>"
      ]
     },
     "metadata": {},
     "output_type": "display_data"
    }
   ],
   "source": [
    "plt.figure(figsize=(20, 10))\n",
    "plt.bar(x=min_weight.columns,\n",
    "        height=list(min_weight.loc[1]),\n",
    "        align='edge',\n",
    "        width=-.4)\n",
    "plt.bar(x=min_weight.columns,\n",
    "        height=list(min_weight.loc[0]),\n",
    "        align='edge',\n",
    "        width=.4)\n",
    "plt.xticks(fontsize=20)\n",
    "plt.ylabel('Count', fontsize=25)\n",
    "plt.yticks(fontsize=20)\n",
    "plt.title('Count of Words with Low Odds', fontsize=30)\n",
    "plt.legend(['digital nomad', 'solo travel'], fontsize=20);"
   ]
  },
  {
   "cell_type": "markdown",
   "metadata": {},
   "source": [
    "-  We see the opposite of what was observed with words with high odds earlier. All words with low odds occur much more frequently in r/solotravel than r/digitalnomad.\n",
    "-  Given that `trip` has the lowest odds of appearing in r/digitalnomad, it has the greatest difference in count between the subreddits."
   ]
  },
  {
   "cell_type": "markdown",
   "metadata": {},
   "source": [
    "#### Predictions and Probabilities"
   ]
  },
  {
   "cell_type": "markdown",
   "metadata": {},
   "source": [
    "We will look at where our model excelled and where it fell short."
   ]
  },
  {
   "cell_type": "code",
   "execution_count": 24,
   "metadata": {},
   "outputs": [],
   "source": [
    "lr_pred = gs_logreg.predict(X_test_tfidf_df)"
   ]
  },
  {
   "cell_type": "code",
   "execution_count": 25,
   "metadata": {},
   "outputs": [
    {
     "data": {
      "text/html": [
       "<div>\n",
       "<style scoped>\n",
       "    .dataframe tbody tr th:only-of-type {\n",
       "        vertical-align: middle;\n",
       "    }\n",
       "\n",
       "    .dataframe tbody tr th {\n",
       "        vertical-align: top;\n",
       "    }\n",
       "\n",
       "    .dataframe thead th {\n",
       "        text-align: right;\n",
       "    }\n",
       "</style>\n",
       "<table border=\"1\" class=\"dataframe\">\n",
       "  <thead>\n",
       "    <tr style=\"text-align: right;\">\n",
       "      <th></th>\n",
       "      <th>Predicted Negative</th>\n",
       "      <th>Predicted Positive</th>\n",
       "    </tr>\n",
       "  </thead>\n",
       "  <tbody>\n",
       "    <tr>\n",
       "      <th>Actual Negative</th>\n",
       "      <td>1124</td>\n",
       "      <td>286</td>\n",
       "    </tr>\n",
       "    <tr>\n",
       "      <th>Actual Positive</th>\n",
       "      <td>215</td>\n",
       "      <td>1062</td>\n",
       "    </tr>\n",
       "  </tbody>\n",
       "</table>\n",
       "</div>"
      ],
      "text/plain": [
       "                 Predicted Negative  Predicted Positive\n",
       "Actual Negative                1124                 286\n",
       "Actual Positive                 215                1062"
      ]
     },
     "execution_count": 25,
     "metadata": {},
     "output_type": "execute_result"
    }
   ],
   "source": [
    "pd.DataFrame(confusion_matrix(y_true = y_test, y_pred = lr_pred),\n",
    "             index=['Actual Negative', 'Actual Positive'],\n",
    "             columns=['Predicted Negative', 'Predicted Positive'])"
   ]
  },
  {
   "cell_type": "markdown",
   "metadata": {},
   "source": [
    "Of the 2687 posts in our test set:\n",
    "-  we correctly predicted 1124 posts to be in r/solotravel (true negative).\n",
    "-  we correctly predicted 1063 posts to be in r/digitalnomad (true positive).\n",
    "-  we incorrectly predicted 286 posts to be in r/digitalnomad when they're actually found in r/solotravel (false positive).\n",
    "-  we incorrectly predicted 215 posts to be in r/solotravel when they're actually found in r/digitalnomad (false negative)."
   ]
  },
  {
   "cell_type": "markdown",
   "metadata": {},
   "source": [
    "In order to understand why posts were either correctly or incorrectly classified, we'll look at the original post before data cleaning."
   ]
  },
  {
   "cell_type": "markdown",
   "metadata": {},
   "source": [
    "##### Predicted Correctly with High Certainty"
   ]
  },
  {
   "cell_type": "code",
   "execution_count": 26,
   "metadata": {},
   "outputs": [
    {
     "data": {
      "text/html": [
       "<div>\n",
       "<style scoped>\n",
       "    .dataframe tbody tr th:only-of-type {\n",
       "        vertical-align: middle;\n",
       "    }\n",
       "\n",
       "    .dataframe tbody tr th {\n",
       "        vertical-align: top;\n",
       "    }\n",
       "\n",
       "    .dataframe thead th {\n",
       "        text-align: right;\n",
       "    }\n",
       "</style>\n",
       "<table border=\"1\" class=\"dataframe\">\n",
       "  <thead>\n",
       "    <tr style=\"text-align: right;\">\n",
       "      <th></th>\n",
       "      <th>text_lemmatized</th>\n",
       "    </tr>\n",
       "  </thead>\n",
       "  <tbody>\n",
       "    <tr>\n",
       "      <th>707</th>\n",
       "      <td>Being kid Is doing Is possible feasible What s...</td>\n",
       "    </tr>\n",
       "    <tr>\n",
       "      <th>930</th>\n",
       "      <td>Has worked Palestine I want cross Bethlehem Je...</td>\n",
       "    </tr>\n",
       "    <tr>\n",
       "      <th>4156</th>\n",
       "      <td>Three month stint Northern Baja TJ Rosarito En...</td>\n",
       "    </tr>\n",
       "    <tr>\n",
       "      <th>3807</th>\n",
       "      <td>How Start Teaching With VIPKID The Complete Guide</td>\n",
       "    </tr>\n",
       "    <tr>\n",
       "      <th>2221</th>\n",
       "      <td>Software Engineer India working time start doe...</td>\n",
       "    </tr>\n",
       "  </tbody>\n",
       "</table>\n",
       "</div>"
      ],
      "text/plain": [
       "                                        text_lemmatized\n",
       "707   Being kid Is doing Is possible feasible What s...\n",
       "930   Has worked Palestine I want cross Bethlehem Je...\n",
       "4156  Three month stint Northern Baja TJ Rosarito En...\n",
       "3807  How Start Teaching With VIPKID The Complete Guide\n",
       "2221  Software Engineer India working time start doe..."
      ]
     },
     "execution_count": 26,
     "metadata": {},
     "output_type": "execute_result"
    }
   ],
   "source": [
    "X_test[(gs_logreg.predict_proba(X_test_tfidf_df)[:, 1] > .7) & (y_test == 1)].head()"
   ]
  },
  {
   "cell_type": "code",
   "execution_count": 27,
   "metadata": {},
   "outputs": [
    {
     "data": {
      "text/plain": [
       "'Has anyone worked from Palestine? I want to cross to Bethlehem from Jerusalem are their any issues travelling with multiple laptops? Is the internet as good as Israel?'"
      ]
     },
     "execution_count": 27,
     "metadata": {},
     "output_type": "execute_result"
    }
   ],
   "source": [
    "posts.loc[930, 'title']"
   ]
  },
  {
   "cell_type": "markdown",
   "metadata": {},
   "source": [
    "We correctly classified this post to be in r/digitalnomad with high certainty (greater than 70%) because it contains the word `internet`. A post that contains this word is 874.28 times more likely to appear in r/digitalnomad."
   ]
  },
  {
   "cell_type": "markdown",
   "metadata": {},
   "source": [
    "##### Predicted Incorrectly with High Certainty"
   ]
  },
  {
   "cell_type": "code",
   "execution_count": 28,
   "metadata": {},
   "outputs": [
    {
     "data": {
      "text/html": [
       "<div>\n",
       "<style scoped>\n",
       "    .dataframe tbody tr th:only-of-type {\n",
       "        vertical-align: middle;\n",
       "    }\n",
       "\n",
       "    .dataframe tbody tr th {\n",
       "        vertical-align: top;\n",
       "    }\n",
       "\n",
       "    .dataframe thead th {\n",
       "        text-align: right;\n",
       "    }\n",
       "</style>\n",
       "<table border=\"1\" class=\"dataframe\">\n",
       "  <thead>\n",
       "    <tr style=\"text-align: right;\">\n",
       "      <th></th>\n",
       "      <th>text_lemmatized</th>\n",
       "    </tr>\n",
       "  </thead>\n",
       "  <tbody>\n",
       "    <tr>\n",
       "      <th>9276</th>\n",
       "      <td>Is possible boat ship yacht pay ticket working...</td>\n",
       "    </tr>\n",
       "    <tr>\n",
       "      <th>9976</th>\n",
       "      <td>Me Myself My New Hammock world I Fit pocket</td>\n",
       "    </tr>\n",
       "    <tr>\n",
       "      <th>5991</th>\n",
       "      <td>Best Place Live Your s I m currently living mi...</td>\n",
       "    </tr>\n",
       "    <tr>\n",
       "      <th>7213</th>\n",
       "      <td>Air I need vent My gripe hostel people t handl...</td>\n",
       "    </tr>\n",
       "    <tr>\n",
       "      <th>10684</th>\n",
       "      <td>Reasons Why You Should Say Yes To Honeymoon Ne...</td>\n",
       "    </tr>\n",
       "  </tbody>\n",
       "</table>\n",
       "</div>"
      ],
      "text/plain": [
       "                                         text_lemmatized\n",
       "9276   Is possible boat ship yacht pay ticket working...\n",
       "9976         Me Myself My New Hammock world I Fit pocket\n",
       "5991   Best Place Live Your s I m currently living mi...\n",
       "7213   Air I need vent My gripe hostel people t handl...\n",
       "10684  Reasons Why You Should Say Yes To Honeymoon Ne..."
      ]
     },
     "execution_count": 28,
     "metadata": {},
     "output_type": "execute_result"
    }
   ],
   "source": [
    "X_test[(gs_logreg.predict_proba(X_test_tfidf_df)[:, 1] > .7) & (y_test != 1)].head()"
   ]
  },
  {
   "cell_type": "code",
   "execution_count": 29,
   "metadata": {},
   "outputs": [
    {
     "data": {
      "text/plain": [
       "'Is it possible to find a boat/ship/yacht where i can \"pay\" my ticket with working on it to cross the sea? No particular sea, just asking if its a possibility to get on a boat for free to get to another county.'"
      ]
     },
     "execution_count": 29,
     "metadata": {},
     "output_type": "execute_result"
    }
   ],
   "source": [
    "posts.loc[9276, 'text']"
   ]
  },
  {
   "cell_type": "markdown",
   "metadata": {},
   "source": [
    "We misclassified this post to be in r/digitalnomad with high certainty because of `working`. The word increase the odds of it being misclassified 18.32 times. "
   ]
  },
  {
   "cell_type": "markdown",
   "metadata": {},
   "source": [
    "##### Predicted Incorrectly with Low Certainty"
   ]
  },
  {
   "cell_type": "code",
   "execution_count": 30,
   "metadata": {},
   "outputs": [
    {
     "data": {
      "text/html": [
       "<div>\n",
       "<style scoped>\n",
       "    .dataframe tbody tr th:only-of-type {\n",
       "        vertical-align: middle;\n",
       "    }\n",
       "\n",
       "    .dataframe tbody tr th {\n",
       "        vertical-align: top;\n",
       "    }\n",
       "\n",
       "    .dataframe thead th {\n",
       "        text-align: right;\n",
       "    }\n",
       "</style>\n",
       "<table border=\"1\" class=\"dataframe\">\n",
       "  <thead>\n",
       "    <tr style=\"text-align: right;\">\n",
       "      <th></th>\n",
       "      <th>text_lemmatized</th>\n",
       "    </tr>\n",
       "  </thead>\n",
       "  <tbody>\n",
       "    <tr>\n",
       "      <th>8666</th>\n",
       "      <td>Has movie curious wouldn t thought I recently ...</td>\n",
       "    </tr>\n",
       "    <tr>\n",
       "      <th>5109</th>\n",
       "      <td>What best story Northern Europe Title say I wa...</td>\n",
       "    </tr>\n",
       "    <tr>\n",
       "      <th>5802</th>\n",
       "      <td>Is beginner guide like M d idea start planning</td>\n",
       "    </tr>\n",
       "    <tr>\n",
       "      <th>7909</th>\n",
       "      <td>Weather Rio Brazil month Does anybody know wea...</td>\n",
       "    </tr>\n",
       "    <tr>\n",
       "      <th>6579</th>\n",
       "      <td>Trans Siberian Railway spring Hello fellow I p...</td>\n",
       "    </tr>\n",
       "    <tr>\n",
       "      <th>9206</th>\n",
       "      <td>My experience sunrise Sarankot Nepal</td>\n",
       "    </tr>\n",
       "    <tr>\n",
       "      <th>6581</th>\n",
       "      <td>At point start feel confident You hear people ...</td>\n",
       "    </tr>\n",
       "    <tr>\n",
       "      <th>7810</th>\n",
       "      <td>Getting dumped whilst Has relationship end whi...</td>\n",
       "    </tr>\n",
       "    <tr>\n",
       "      <th>9611</th>\n",
       "      <td>Any suggestion Looking time Was thinking sm in...</td>\n",
       "    </tr>\n",
       "    <tr>\n",
       "      <th>6213</th>\n",
       "      <td>Who interesting person met</td>\n",
       "    </tr>\n",
       "  </tbody>\n",
       "</table>\n",
       "</div>"
      ],
      "text/plain": [
       "                                        text_lemmatized\n",
       "8666  Has movie curious wouldn t thought I recently ...\n",
       "5109  What best story Northern Europe Title say I wa...\n",
       "5802     Is beginner guide like M d idea start planning\n",
       "7909  Weather Rio Brazil month Does anybody know wea...\n",
       "6579  Trans Siberian Railway spring Hello fellow I p...\n",
       "9206               My experience sunrise Sarankot Nepal\n",
       "6581  At point start feel confident You hear people ...\n",
       "7810  Getting dumped whilst Has relationship end whi...\n",
       "9611  Any suggestion Looking time Was thinking sm in...\n",
       "6213                         Who interesting person met"
      ]
     },
     "execution_count": 30,
     "metadata": {},
     "output_type": "execute_result"
    }
   ],
   "source": [
    "X_test[(gs_logreg.predict_proba(X_test_tfidf_df)[:, 1] > .50) & \n",
    "       (gs_logreg.predict_proba(X_test_tfidf_df)[:, 1] < .55) & \n",
    "       (y_test != 1)].head(10)"
   ]
  },
  {
   "cell_type": "code",
   "execution_count": 31,
   "metadata": {},
   "outputs": [
    {
     "data": {
      "text/plain": [
       "'Looking to travel somewhere alone for the first time. Was thinking sm where inclusive or getaway to key west...anyone ever get bored going alone?  I asked a friend to go- my treat of course and was countered with “you’ll have to pay for my passport childcare and time of work too”- how appreciative. Goin at it alone. 🙄'"
      ]
     },
     "execution_count": 31,
     "metadata": {},
     "output_type": "execute_result"
    }
   ],
   "source": [
    "posts.loc[9611, 'selftext']"
   ]
  },
  {
   "cell_type": "markdown",
   "metadata": {},
   "source": [
    "We misclassified this post to be in r/digitalnomad with low certainty because of `first`, `pay` and `work`. The odds of `first` being in a post in r/digitalnomad is .09 times as likely. On the other hand, `pay` and `work` have high odds. Even though the model misclassified, this decreases our confidence when doing so. "
   ]
  },
  {
   "cell_type": "markdown",
   "metadata": {},
   "source": [
    "##### Predicted Correctly with Low Certainty"
   ]
  },
  {
   "cell_type": "code",
   "execution_count": 32,
   "metadata": {},
   "outputs": [
    {
     "data": {
      "text/html": [
       "<div>\n",
       "<style scoped>\n",
       "    .dataframe tbody tr th:only-of-type {\n",
       "        vertical-align: middle;\n",
       "    }\n",
       "\n",
       "    .dataframe tbody tr th {\n",
       "        vertical-align: top;\n",
       "    }\n",
       "\n",
       "    .dataframe thead th {\n",
       "        text-align: right;\n",
       "    }\n",
       "</style>\n",
       "<table border=\"1\" class=\"dataframe\">\n",
       "  <thead>\n",
       "    <tr style=\"text-align: right;\">\n",
       "      <th></th>\n",
       "      <th>text_lemmatized</th>\n",
       "    </tr>\n",
       "  </thead>\n",
       "  <tbody>\n",
       "    <tr>\n",
       "      <th>455</th>\n",
       "      <td>Looking laptop recommendation Hi let know dece...</td>\n",
       "    </tr>\n",
       "    <tr>\n",
       "      <th>5017</th>\n",
       "      <td>Buying phone reliably work I Hi I m market new...</td>\n",
       "    </tr>\n",
       "    <tr>\n",
       "      <th>1000</th>\n",
       "      <td>How store cash credit card Would love hear safe</td>\n",
       "    </tr>\n",
       "    <tr>\n",
       "      <th>4822</th>\n",
       "      <td>Buying flat apartment I m EU want island EU Cu...</td>\n",
       "    </tr>\n",
       "    <tr>\n",
       "      <th>3898</th>\n",
       "      <td>Would easier buy second phone I changing SIM c...</td>\n",
       "    </tr>\n",
       "    <tr>\n",
       "      <th>2459</th>\n",
       "      <td>Anyone tried Sardinia lifestyle It look perfec...</td>\n",
       "    </tr>\n",
       "    <tr>\n",
       "      <th>3491</th>\n",
       "      <td>What did guy personal stuff DN I accumulated l...</td>\n",
       "    </tr>\n",
       "    <tr>\n",
       "      <th>3188</th>\n",
       "      <td>Is Lisbon city</td>\n",
       "    </tr>\n",
       "    <tr>\n",
       "      <th>5047</th>\n",
       "      <td>FEIE date tax refund oddity I m preliminarily ...</td>\n",
       "    </tr>\n",
       "    <tr>\n",
       "      <th>3005</th>\n",
       "      <td>What think average age The title say What opin...</td>\n",
       "    </tr>\n",
       "  </tbody>\n",
       "</table>\n",
       "</div>"
      ],
      "text/plain": [
       "                                        text_lemmatized\n",
       "455   Looking laptop recommendation Hi let know dece...\n",
       "5017  Buying phone reliably work I Hi I m market new...\n",
       "1000    How store cash credit card Would love hear safe\n",
       "4822  Buying flat apartment I m EU want island EU Cu...\n",
       "3898  Would easier buy second phone I changing SIM c...\n",
       "2459  Anyone tried Sardinia lifestyle It look perfec...\n",
       "3491  What did guy personal stuff DN I accumulated l...\n",
       "3188                                     Is Lisbon city\n",
       "5047  FEIE date tax refund oddity I m preliminarily ...\n",
       "3005  What think average age The title say What opin..."
      ]
     },
     "execution_count": 32,
     "metadata": {},
     "output_type": "execute_result"
    }
   ],
   "source": [
    "X_test[(gs_logreg.predict_proba(X_test_tfidf_df)[:, 1] > .50) & \n",
    "       (gs_logreg.predict_proba(X_test_tfidf_df)[:, 1] < .55) & \n",
    "       (y_test == 1)].head(10)"
   ]
  },
  {
   "cell_type": "code",
   "execution_count": 33,
   "metadata": {},
   "outputs": [
    {
     "data": {
      "text/plain": [
       "\"Buying a phone that will reliably work wherever I go? Hi all,\\n\\nI'm in the market for a new phone. I got my current phone in China and it worked great when I was in a handful of countries in Asia and Africa... But it doesn't seem to work with US carriers. I'll be going to Peru soon and I don't know where I'll go after that, but I don't want to have to worry about compatibility. Any suggestions? My budget is around $    or so -- I certainly don't see any reason to spend $   + on a phone. \\n\\nLooking forward to hearing what you all have to say. \\n\\nCheers\""
      ]
     },
     "execution_count": 33,
     "metadata": {},
     "output_type": "execute_result"
    }
   ],
   "source": [
    "posts.loc[5017, 'text']"
   ]
  },
  {
   "cell_type": "markdown",
   "metadata": {},
   "source": [
    "We correctly classified this post to be in r/digitalnomad, but with low certainty. This is because of the words `work` and `going`. `work` increases the odds of the post being in r/digitalnomad 11.96 times, but `going` decreases the odds with a likelihood of 0.06. The presence of both words with high odds and low odds results in a classification with low certainty."
   ]
  },
  {
   "cell_type": "markdown",
   "metadata": {},
   "source": [
    "### Random Forest"
   ]
  },
  {
   "cell_type": "markdown",
   "metadata": {},
   "source": [
    "Random Forest is a collection of decision trees, with each tree only considering a random subset of features. This is preferred over a single decision tree because it prevents overfitting.\n",
    "\n",
    "**Reason for Choosing Model:** Even though our logistic regression model allows for an easy interpretation of the terms and their importance, Random Forest also allows us to measure feature importance. Using another model may provide us with more insight into the keywords that should be used. \n",
    "\n",
    "We will instantiate Random Forest Classifier and perform Grid Search to find the most optimal hyperparameters: \n",
    "-  **n_estimators:** Number of trees our model builds before taking an average of the predictions. Increasing the number of trees will allow our model to better learn the data, but having too much can slow down the process considerably. \n",
    "-  **min_samples_split:** Minimum number of samples required for a node to split\n",
    "-  **max_depth:** Maximum number of levels in each tree. As the value increases, so does the information captured. We include the default value of `None` in addition to our other values."
   ]
  },
  {
   "cell_type": "code",
   "execution_count": 34,
   "metadata": {},
   "outputs": [
    {
     "name": "stdout",
     "output_type": "stream",
     "text": [
      "Score on Training Set: 0.9564462092070977\n",
      "Score on Testing Set: 0.8116858950502419\n"
     ]
    },
    {
     "data": {
      "text/plain": [
       "{'max_depth': None, 'min_samples_split': 10, 'n_estimators': 35}"
      ]
     },
     "execution_count": 34,
     "metadata": {},
     "output_type": "execute_result"
    }
   ],
   "source": [
    "rf = RandomForestClassifier()\n",
    "rf_params = {\n",
    "    'n_estimators': [30, 35, 45],\n",
    "    'min_samples_split': [2, 3, 5, 7, 10],\n",
    "    'max_depth': [None, 5, 7, 10]\n",
    "    \n",
    "}\n",
    "gs_rf = GridSearchCV(rf, param_grid=rf_params, cv=5)\n",
    "gs_rf.fit(X_train_tfidf_df, y_train)\n",
    "print('Score on Training Set:', gs_rf.score(X_train_tfidf_df, y_train))\n",
    "print('Score on Testing Set:', gs_rf.score(X_test_tfidf_df, y_test))\n",
    "gs_rf.best_params_"
   ]
  },
  {
   "cell_type": "markdown",
   "metadata": {},
   "source": [
    "-  For `y_train`, we will correctly predict the class in which a post belongs in 95.64% of the time.\n",
    "-  For `y_test`, we will correctly predict the class in which a post belongs in 81.17% of the time. \n",
    "\n",
    "#### Takeaways\n",
    "-  The model is suffering from high variance, with our training score being 14.48% higher than our test score. This can be due to the smaller dataset, resulting in an inadequate number of trees.\n",
    "-  The accuracy scores are greater than our baseline model of `52.47`.\n",
    "-  Random Forest performs slighly worse than our Logistic Regression model, with the test score being lower by 0.18%. "
   ]
  },
  {
   "cell_type": "markdown",
   "metadata": {},
   "source": [
    "#### Important Features"
   ]
  },
  {
   "cell_type": "code",
   "execution_count": 35,
   "metadata": {},
   "outputs": [],
   "source": [
    "feat_importance = pd.DataFrame(gs_rf.best_estimator_.feature_importances_, X_train_tfidf_df.columns, columns=['importance'])"
   ]
  },
  {
   "cell_type": "code",
   "execution_count": 36,
   "metadata": {},
   "outputs": [],
   "source": [
    "top_feat = feat_importance.sort_values('importance', ascending=False).head(20)"
   ]
  },
  {
   "cell_type": "code",
   "execution_count": 37,
   "metadata": {},
   "outputs": [
    {
     "data": {
      "image/png": "[encoded data removed]",
      "text/plain": [
       "<Figure size 1440x720 with 1 Axes>"
      ]
     },
     "metadata": {},
     "output_type": "display_data"
    }
   ],
   "source": [
    "plt.figure(figsize=(20,10))\n",
    "plt.barh(top_feat.index, top_feat['importance'])\n",
    "plt.title('Top 20 Features', fontsize=30)\n",
    "plt.xlabel('Amount of Information Gained', fontsize=25)\n",
    "plt.ylabel('Feature', fontsize=25)\n",
    "plt.xticks(fontsize=20)\n",
    "plt.yticks(fontsize=20);"
   ]
  },
  {
   "cell_type": "markdown",
   "metadata": {},
   "source": [
    "-  There's overlap between our top features and words with very high/low odds in the logistic regression model.\n",
    "-  `trip` has the most information gained of 11.22% and has the lowest odds of .000646.\n",
    "-  Words like `week`, `day`, `job` have the highest count in either one or both of the subreddits."
   ]
  },
  {
   "cell_type": "markdown",
   "metadata": {},
   "source": [
    "#### Predictions"
   ]
  },
  {
   "cell_type": "code",
   "execution_count": 38,
   "metadata": {},
   "outputs": [],
   "source": [
    "rf_pred = gs_rf.predict(X_test_tfidf_df)"
   ]
  },
  {
   "cell_type": "code",
   "execution_count": 39,
   "metadata": {},
   "outputs": [
    {
     "data": {
      "text/html": [
       "<div>\n",
       "<style scoped>\n",
       "    .dataframe tbody tr th:only-of-type {\n",
       "        vertical-align: middle;\n",
       "    }\n",
       "\n",
       "    .dataframe tbody tr th {\n",
       "        vertical-align: top;\n",
       "    }\n",
       "\n",
       "    .dataframe thead th {\n",
       "        text-align: right;\n",
       "    }\n",
       "</style>\n",
       "<table border=\"1\" class=\"dataframe\">\n",
       "  <thead>\n",
       "    <tr style=\"text-align: right;\">\n",
       "      <th></th>\n",
       "      <th>Predicted Negative</th>\n",
       "      <th>Predicted Positive</th>\n",
       "    </tr>\n",
       "  </thead>\n",
       "  <tbody>\n",
       "    <tr>\n",
       "      <th>Actual Negative</th>\n",
       "      <td>1154</td>\n",
       "      <td>256</td>\n",
       "    </tr>\n",
       "    <tr>\n",
       "      <th>Actual Positive</th>\n",
       "      <td>250</td>\n",
       "      <td>1027</td>\n",
       "    </tr>\n",
       "  </tbody>\n",
       "</table>\n",
       "</div>"
      ],
      "text/plain": [
       "                 Predicted Negative  Predicted Positive\n",
       "Actual Negative                1154                 256\n",
       "Actual Positive                 250                1027"
      ]
     },
     "execution_count": 39,
     "metadata": {},
     "output_type": "execute_result"
    }
   ],
   "source": [
    "pd.DataFrame(confusion_matrix(y_true = y_test, \n",
    "                              y_pred = rf_pred),\n",
    "             index=['Actual Negative', 'Actual Positive'],\n",
    "             columns=['Predicted Negative', 'Predicted Positive'])"
   ]
  },
  {
   "cell_type": "markdown",
   "metadata": {},
   "source": [
    "Of the 2687 posts in our test set:\n",
    "-  we correctly predicted 1154 posts to be in r/solotravel (true negative).\n",
    "-  we correctly predicted 1027 posts to be in r/digitalnomad (true positive).\n",
    "-  we incorrectly predicted 256 posts to be in r/digitalnomad when they're actually found in r/solotravel (false positive).\n",
    "-  we incorrectly predicted 250 posts to be in r/solotravel when they're actually found in r/digitalnomad (false negative)."
   ]
  },
  {
   "cell_type": "markdown",
   "metadata": {},
   "source": [
    "### Model Comparison"
   ]
  },
  {
   "cell_type": "markdown",
   "metadata": {},
   "source": [
    "**Advantages with Logistic Regression:**\n",
    "-  We can easily determine how likely a post will be classified in r/digitalnomad by taking the exponential of the log odds of success. Even though Random Forest informs us about feature importance, we cannot quickly determine the information gained classifies a post in which class. \n",
    "-  Relative to Random Forest, our model is not overfitting. The training score is 1.89% higher than our test score, compared to 14.63%. \n",
    "-  There are less false negatives (215) than random forest (250). It may be more beneficial to mistakenly target indviduals who are not digital nomads than to overlook someone who is.\n",
    "\n",
    "**Advantages with Random Forest:**\n",
    "-  We have a slightly higher accuracy score of 81.76%. \n",
    "-  There are less false positives (256) than logistic regression (286). We are cutting back on costs that we may incur from targeting individuals who do not find our service useful."
   ]
  },
  {
   "cell_type": "markdown",
   "metadata": {},
   "source": [
    "### Conclusions and Recommendations\n",
    "\n",
    "**Use Logistic Regression as Production Model:** With a slightly higher score than Random Forest, Logistic Regression proves to be a more successful and effective model for our purposes. Ultimately, we want to know which words should be used as positive keywords and which should be used as negative keywords to find our target audience. Logistic regression easily provides this distinction with the exponential log odds of success. While Random Forest identifies these keywords, the distinction between positive and negative is not as readily apparant. \n",
    "\n",
    "|Positive Keywords|Negative Keywords|\n",
    "|---|---|\n",
    "|remote|trip|\n",
    "|internet|hostel|\n",
    "|business|itinerary|\n",
    "|work|booked|\n",
    "\n",
    "**Positive Keywords:** Websites that contain either one or a combination of these words will be ideal targets for our campaign. Posts with these words have high odds of being in r/digitalnomad, which are exactly the users we're trying to target. When discussed with travel, these words also imply it's not for leisure. Digital nomads will typically be more concerned with internet connection and work, because they ultimately still have work-related responsibilities depsite being in a foreign area.\n",
    "\n",
    "**Negative Keywords:** To ensure we're allocating resources in the right places, we want to specify these negative keywords and avoid having advertisements on these websites. Posts with these words have low odds of being in r/digitalnomad, which means it concerns a demographic that we have little interest in. All of these words indicate short-term travelers, who will find little to no benefit in our service.\n",
    "\n",
    "**Next Steps:** Once a campaign budget is determined and we know the cost-benefit trade off, we can return to our production model and optimize for sensitivity or specificity. Without knowing all the costs involved, it's difficult to determine whether false positives or false negatives should be minimized.  "
   ]
  },
  {
   "cell_type": "code",
   "execution_count": null,
   "metadata": {},
   "outputs": [],
   "source": []
  }
 ],
 "metadata": {
  "kernelspec": {
   "display_name": "Python 3",
   "language": "python",
   "name": "python3"
  },
  "language_info": {
   "codemirror_mode": {
    "name": "ipython",
    "version": 3
   },
   "file_extension": ".py",
   "mimetype": "text/x-python",
   "name": "python",
   "nbconvert_exporter": "python",
   "pygments_lexer": "ipython3",
   "version": "3.6.5"
  }
 },
 "nbformat": 4,
 "nbformat_minor": 2
}
